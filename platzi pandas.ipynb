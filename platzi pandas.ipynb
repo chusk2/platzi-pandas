{
 "cells": [
  {
   "cell_type": "markdown",
   "id": "8a2117ab-1610-4c52-9139-4944ac69606e",
   "metadata": {},
   "source": [
    "Curso Pandas Platzi"
   ]
  },
  {
   "cell_type": "code",
   "execution_count": 1,
   "id": "8872e93a-f906-47ee-aaa8-98c78baa5b59",
   "metadata": {},
   "outputs": [],
   "source": [
    "import pandas as pd\n",
    "import numpy as np\n",
    "import datetime as dt  # work with dates in meteorite dataframe"
   ]
  },
  {
   "cell_type": "code",
   "execution_count": 69,
   "id": "e1a7df2b-d44d-47ba-aaec-567b9a4d8837",
   "metadata": {},
   "outputs": [],
   "source": [
    "stationary = pd.Series([2.5,3.6,4.8,12.5], index=['Boli','Cuaderno','Folios','Compás']) # create a pandas series using a list"
   ]
  },
  {
   "cell_type": "markdown",
   "id": "69743190-55f6-467e-953a-c5a65a7eaf2b",
   "metadata": {},
   "source": [
    "Get the values and the index names"
   ]
  },
  {
   "cell_type": "code",
   "execution_count": 70,
   "id": "a46f0c29-18d0-4f6f-b19c-da151164fdb7",
   "metadata": {},
   "outputs": [
    {
     "data": {
      "text/plain": [
       "array([ 2.5,  3.6,  4.8, 12.5])"
      ]
     },
     "execution_count": 70,
     "metadata": {},
     "output_type": "execute_result"
    }
   ],
   "source": [
    "stationary.values"
   ]
  },
  {
   "cell_type": "code",
   "execution_count": 71,
   "id": "96e42765-7e50-4371-a819-fe47cd755ca7",
   "metadata": {},
   "outputs": [
    {
     "data": {
      "text/plain": [
       "Index(['Boli', 'Cuaderno', 'Folios', 'Compás'], dtype='object')"
      ]
     },
     "execution_count": 71,
     "metadata": {},
     "output_type": "execute_result"
    }
   ],
   "source": [
    "stationary.index"
   ]
  },
  {
   "cell_type": "code",
   "execution_count": 72,
   "id": "59daedde-f1a1-4a97-b726-8bceb00acb8d",
   "metadata": {},
   "outputs": [
    {
     "data": {
      "text/plain": [
       "(4,)"
      ]
     },
     "execution_count": 72,
     "metadata": {},
     "output_type": "execute_result"
    }
   ],
   "source": [
    "stationary.shape  # dimensions of series"
   ]
  },
  {
   "cell_type": "markdown",
   "id": "82cca412-e8f0-42cb-bca9-d706d8e8acc7",
   "metadata": {},
   "source": [
    "\n",
    "Select one or several elements of series accesing series with slice notation: [ ]"
   ]
  },
  {
   "cell_type": "code",
   "execution_count": 73,
   "id": "60b0d22c-f78f-4f31-86c5-9e95fd827035",
   "metadata": {},
   "outputs": [
    {
     "data": {
      "text/plain": [
       "3.6"
      ]
     },
     "execution_count": 73,
     "metadata": {},
     "output_type": "execute_result"
    }
   ],
   "source": [
    "stationary['Cuaderno']"
   ]
  },
  {
   "cell_type": "code",
   "execution_count": 74,
   "id": "21c1f1df-7f78-424b-9cc6-11327b934279",
   "metadata": {},
   "outputs": [
    {
     "data": {
      "text/plain": [
       "Boli      2.5\n",
       "Folios    4.8\n",
       "dtype: float64"
      ]
     },
     "execution_count": 74,
     "metadata": {},
     "output_type": "execute_result"
    }
   ],
   "source": [
    "stationary[['Boli','Folios']]  # several elements using a list of indexes"
   ]
  },
  {
   "cell_type": "markdown",
   "id": "36cef197-d159-4d77-8d92-01fa9bd061e4",
   "metadata": {},
   "source": [
    "Define a pandas series using a dictionary"
   ]
  },
  {
   "cell_type": "code",
   "execution_count": 75,
   "id": "33d56e6e-4ea0-4f86-9d0c-1614e3962c47",
   "metadata": {},
   "outputs": [
    {
     "data": {
      "text/plain": [
       "Boli               2.5\n",
       "Cuaderno           3.6\n",
       "Paquete folios     4.8\n",
       "Compás            12.5\n",
       "dtype: float64"
      ]
     },
     "execution_count": 75,
     "metadata": {},
     "output_type": "execute_result"
    }
   ],
   "source": [
    "dic = {'Boli': 2.5,'Cuaderno': 3.6, 'Paquete folios': 4.8, 'Compás': 12.5}\n",
    "papel = pd.Series(dic)\n",
    "papel"
   ]
  },
  {
   "cell_type": "markdown",
   "id": "771dc846-4fe3-4bac-8991-8bdea8170390",
   "metadata": {},
   "source": [
    "Name a column of data"
   ]
  },
  {
   "cell_type": "code",
   "execution_count": 76,
   "id": "d092e0a0-641c-436a-a6ac-286ec3c75f66",
   "metadata": {},
   "outputs": [
    {
     "data": {
      "text/plain": [
       "Boli               2.5\n",
       "Cuaderno           3.6\n",
       "Paquete folios     4.8\n",
       "Compás            12.5\n",
       "Name: Precios papelería, dtype: float64"
      ]
     },
     "execution_count": 76,
     "metadata": {},
     "output_type": "execute_result"
    }
   ],
   "source": [
    "papel.name = 'Precios papelería'\n",
    "papel"
   ]
  },
  {
   "cell_type": "markdown",
   "id": "5fe7e4f5-7b95-4145-a9d7-e7ab08a642b7",
   "metadata": {},
   "source": [
    "Add a new index, just adding an index to index list"
   ]
  },
  {
   "cell_type": "code",
   "execution_count": 77,
   "id": "dcc8cdc3-9ce8-4ace-b564-cccaf68e727a",
   "metadata": {},
   "outputs": [
    {
     "data": {
      "text/plain": [
       "['Boli', 'Cuaderno', 'Lápiz', 'Compás']"
      ]
     },
     "execution_count": 77,
     "metadata": {},
     "output_type": "execute_result"
    }
   ],
   "source": [
    "# use .to_list() method to transform an index object into a list\n",
    "new_index = papel.index.to_list()\n",
    "new_index[new_index.index('Paquete folios')] = 'Lápiz'  # find index of 'Paquete folios' and change this element with 'Lápiz'\n",
    "papel.index\n",
    "new_index"
   ]
  },
  {
   "cell_type": "code",
   "execution_count": 78,
   "id": "de48163e-6f4b-4139-afb9-a0dfd23becfe",
   "metadata": {},
   "outputs": [
    {
     "name": "stdout",
     "output_type": "stream",
     "text": [
      "{'Boli': 2.5, 'Cuaderno': 3.6, 'Paquete folios': 4.8, 'Compás': 12.5}\n"
     ]
    },
    {
     "data": {
      "text/plain": [
       "Boli         2.5\n",
       "Cuaderno     3.6\n",
       "Lápiz        NaN\n",
       "Compás      12.5\n",
       "dtype: float64"
      ]
     },
     "execution_count": 78,
     "metadata": {},
     "output_type": "execute_result"
    }
   ],
   "source": [
    "# redefine the index of the series\n",
    "print(dic)\n",
    "papel = pd.Series(dic, index = new_index)\n",
    "papel"
   ]
  },
  {
   "cell_type": "markdown",
   "id": "d1f97428-e88a-4256-8b77-083967d3f881",
   "metadata": {},
   "source": [
    "In the above result, as 'Lápiz' was not a key in the dictionary, an index called 'Lápiz' will be created, but filled with NaN value."
   ]
  },
  {
   "cell_type": "code",
   "execution_count": 79,
   "id": "7bce2c35-52de-452c-8ff1-bdc835e1565b",
   "metadata": {},
   "outputs": [
    {
     "data": {
      "text/plain": [
       "numpy.float64"
      ]
     },
     "execution_count": 79,
     "metadata": {},
     "output_type": "execute_result"
    }
   ],
   "source": [
    "type(papel['Lápiz'])  # NaN is a numpy object"
   ]
  },
  {
   "cell_type": "markdown",
   "id": "4632c1b3-8d9e-4a4f-82c3-a255a4604077",
   "metadata": {},
   "source": [
    "Check if an element is null: `.isnull()` and `.notnull()"
   ]
  },
  {
   "cell_type": "code",
   "execution_count": 80,
   "id": "ddf6a1d1-4664-4002-8bef-040c9a3d630a",
   "metadata": {},
   "outputs": [
    {
     "data": {
      "text/plain": [
       "Boli        False\n",
       "Cuaderno    False\n",
       "Lápiz        True\n",
       "Compás      False\n",
       "dtype: bool"
      ]
     },
     "execution_count": 80,
     "metadata": {},
     "output_type": "execute_result"
    }
   ],
   "source": [
    "papel.isnull()"
   ]
  },
  {
   "cell_type": "code",
   "execution_count": 81,
   "id": "3d41415c-a38b-4e98-bce3-ad7bbbfc1199",
   "metadata": {},
   "outputs": [
    {
     "data": {
      "text/plain": [
       "Boli         True\n",
       "Cuaderno     True\n",
       "Lápiz       False\n",
       "Compás       True\n",
       "dtype: bool"
      ]
     },
     "execution_count": 81,
     "metadata": {},
     "output_type": "execute_result"
    }
   ],
   "source": [
    "papel.notnull()"
   ]
  },
  {
   "cell_type": "code",
   "execution_count": 82,
   "id": "61e98128-022b-4d3a-ba60-2e40cf698b91",
   "metadata": {},
   "outputs": [
    {
     "data": {
      "text/plain": [
       "{'edad': [10, 9, 13, 14, 12, 11, 12],\n",
       " 'cm': [115, 110, 130, 155, 125, 120, 125],\n",
       " 'pais': ['co', 'mx', 'co', 'mx', 'mx', 'ch', 'ch'],\n",
       " 'genero': ['M', 'F', 'F', 'M', 'M', 'M', 'F'],\n",
       " 'Q1': [5, 10, 8, nan, 7, 8, 3],\n",
       " 'Q2': [7, 9, 9, 8, 8, 8, 9.0]}"
      ]
     },
     "execution_count": 82,
     "metadata": {},
     "output_type": "execute_result"
    }
   ],
   "source": [
    "dict_data = {\n",
    "    'edad' :     [ 10, 9, 13, 14, 12, 11, 12],\n",
    "    'cm' : [ 115, 110, 130, 155, 125, 120, 125],\n",
    "    'pais' :    [ 'co', 'mx', 'co', 'mx', 'mx', 'ch', 'ch'],\n",
    "    'genero' :  [ 'M', 'F', 'F', 'M', 'M', 'M', 'F'],\n",
    "    'Q1' : [ 5, 10, 8, np.nan, 7, 8, 3],\n",
    "    'Q2' : [ 7, 9, 9, 8, 8, 8, 9.]\n",
    "}\n",
    "dict_data"
   ]
  },
  {
   "cell_type": "markdown",
   "id": "0df83630-ab06-4b34-aa5c-6d3658e9d568",
   "metadata": {},
   "source": [
    "A dataframe can be created using a dictionary filled with lists"
   ]
  },
  {
   "cell_type": "code",
   "execution_count": 83,
   "id": "ca57f441-ee3f-4885-a372-76ff0148e5da",
   "metadata": {},
   "outputs": [
    {
     "data": {
      "text/html": [
       "<div>\n",
       "<style scoped>\n",
       "    .dataframe tbody tr th:only-of-type {\n",
       "        vertical-align: middle;\n",
       "    }\n",
       "\n",
       "    .dataframe tbody tr th {\n",
       "        vertical-align: top;\n",
       "    }\n",
       "\n",
       "    .dataframe thead th {\n",
       "        text-align: right;\n",
       "    }\n",
       "</style>\n",
       "<table border=\"1\" class=\"dataframe\">\n",
       "  <thead>\n",
       "    <tr style=\"text-align: right;\">\n",
       "      <th></th>\n",
       "      <th>edad</th>\n",
       "      <th>cm</th>\n",
       "      <th>pais</th>\n",
       "      <th>genero</th>\n",
       "      <th>Q1</th>\n",
       "      <th>Q2</th>\n",
       "    </tr>\n",
       "  </thead>\n",
       "  <tbody>\n",
       "    <tr>\n",
       "      <th>0</th>\n",
       "      <td>10</td>\n",
       "      <td>115</td>\n",
       "      <td>co</td>\n",
       "      <td>M</td>\n",
       "      <td>5.0</td>\n",
       "      <td>7.0</td>\n",
       "    </tr>\n",
       "    <tr>\n",
       "      <th>1</th>\n",
       "      <td>9</td>\n",
       "      <td>110</td>\n",
       "      <td>mx</td>\n",
       "      <td>F</td>\n",
       "      <td>10.0</td>\n",
       "      <td>9.0</td>\n",
       "    </tr>\n",
       "    <tr>\n",
       "      <th>2</th>\n",
       "      <td>13</td>\n",
       "      <td>130</td>\n",
       "      <td>co</td>\n",
       "      <td>F</td>\n",
       "      <td>8.0</td>\n",
       "      <td>9.0</td>\n",
       "    </tr>\n",
       "    <tr>\n",
       "      <th>3</th>\n",
       "      <td>14</td>\n",
       "      <td>155</td>\n",
       "      <td>mx</td>\n",
       "      <td>M</td>\n",
       "      <td>NaN</td>\n",
       "      <td>8.0</td>\n",
       "    </tr>\n",
       "    <tr>\n",
       "      <th>4</th>\n",
       "      <td>12</td>\n",
       "      <td>125</td>\n",
       "      <td>mx</td>\n",
       "      <td>M</td>\n",
       "      <td>7.0</td>\n",
       "      <td>8.0</td>\n",
       "    </tr>\n",
       "    <tr>\n",
       "      <th>5</th>\n",
       "      <td>11</td>\n",
       "      <td>120</td>\n",
       "      <td>ch</td>\n",
       "      <td>M</td>\n",
       "      <td>8.0</td>\n",
       "      <td>8.0</td>\n",
       "    </tr>\n",
       "    <tr>\n",
       "      <th>6</th>\n",
       "      <td>12</td>\n",
       "      <td>125</td>\n",
       "      <td>ch</td>\n",
       "      <td>F</td>\n",
       "      <td>3.0</td>\n",
       "      <td>9.0</td>\n",
       "    </tr>\n",
       "  </tbody>\n",
       "</table>\n",
       "</div>"
      ],
      "text/plain": [
       "   edad   cm pais genero    Q1   Q2\n",
       "0    10  115   co      M   5.0  7.0\n",
       "1     9  110   mx      F  10.0  9.0\n",
       "2    13  130   co      F   8.0  9.0\n",
       "3    14  155   mx      M   NaN  8.0\n",
       "4    12  125   mx      M   7.0  8.0\n",
       "5    11  120   ch      M   8.0  8.0\n",
       "6    12  125   ch      F   3.0  9.0"
      ]
     },
     "execution_count": 83,
     "metadata": {},
     "output_type": "execute_result"
    }
   ],
   "source": [
    "df = pd.DataFrame(dict_data)\n",
    "df"
   ]
  },
  {
   "cell_type": "code",
   "execution_count": 84,
   "id": "473187af-25c9-4ac5-b7f7-f7d614b282bc",
   "metadata": {},
   "outputs": [
    {
     "data": {
      "text/html": [
       "<div>\n",
       "<style scoped>\n",
       "    .dataframe tbody tr th:only-of-type {\n",
       "        vertical-align: middle;\n",
       "    }\n",
       "\n",
       "    .dataframe tbody tr th {\n",
       "        vertical-align: top;\n",
       "    }\n",
       "\n",
       "    .dataframe thead th {\n",
       "        text-align: right;\n",
       "    }\n",
       "</style>\n",
       "<table border=\"1\" class=\"dataframe\">\n",
       "  <thead>\n",
       "    <tr style=\"text-align: right;\">\n",
       "      <th></th>\n",
       "      <th>edad</th>\n",
       "      <th>cm</th>\n",
       "      <th>pais</th>\n",
       "      <th>genero</th>\n",
       "      <th>Q1</th>\n",
       "      <th>Q2</th>\n",
       "    </tr>\n",
       "  </thead>\n",
       "  <tbody>\n",
       "    <tr>\n",
       "      <th>2</th>\n",
       "      <td>13</td>\n",
       "      <td>130</td>\n",
       "      <td>co</td>\n",
       "      <td>F</td>\n",
       "      <td>8.0</td>\n",
       "      <td>9.0</td>\n",
       "    </tr>\n",
       "    <tr>\n",
       "      <th>3</th>\n",
       "      <td>14</td>\n",
       "      <td>155</td>\n",
       "      <td>mx</td>\n",
       "      <td>M</td>\n",
       "      <td>NaN</td>\n",
       "      <td>8.0</td>\n",
       "    </tr>\n",
       "    <tr>\n",
       "      <th>4</th>\n",
       "      <td>12</td>\n",
       "      <td>125</td>\n",
       "      <td>mx</td>\n",
       "      <td>M</td>\n",
       "      <td>7.0</td>\n",
       "      <td>8.0</td>\n",
       "    </tr>\n",
       "  </tbody>\n",
       "</table>\n",
       "</div>"
      ],
      "text/plain": [
       "   edad   cm pais genero   Q1   Q2\n",
       "2    13  130   co      F  8.0  9.0\n",
       "3    14  155   mx      M  NaN  8.0\n",
       "4    12  125   mx      M  7.0  8.0"
      ]
     },
     "execution_count": 84,
     "metadata": {},
     "output_type": "execute_result"
    }
   ],
   "source": [
    "df[2:5]  # access indexes using a slice"
   ]
  },
  {
   "cell_type": "code",
   "execution_count": 85,
   "id": "9da39784-1ab1-4bed-9ec8-226b678fbec6",
   "metadata": {},
   "outputs": [
    {
     "name": "stdout",
     "output_type": "stream",
     "text": [
      "Original indexes: RangeIndex(start=0, stop=7, step=1)\n",
      "New indexes: "
     ]
    },
    {
     "data": {
      "text/plain": [
       "Index(['ana', 'benito', 'camilo', 'daniel', 'erika', 'fabian', 'gabriela'], dtype='object')"
      ]
     },
     "execution_count": 85,
     "metadata": {},
     "output_type": "execute_result"
    }
   ],
   "source": [
    "names = ['ana','benito','camilo','daniel','erika','fabian','gabriela']\n",
    "print('Original indexes:', end=' ')\n",
    "print(df.index)\n",
    "df.index = names\n",
    "print('New indexes:', end=' ')\n",
    "df.index"
   ]
  },
  {
   "cell_type": "markdown",
   "id": "f8c92043-d145-488a-ae33-ade19aff774c",
   "metadata": {},
   "source": [
    "Columns of dataframe"
   ]
  },
  {
   "cell_type": "code",
   "execution_count": 86,
   "id": "9a577358-8df5-4e72-9ea4-3205e631966a",
   "metadata": {},
   "outputs": [
    {
     "data": {
      "text/plain": [
       "Index(['edad', 'cm', 'pais', 'genero', 'Q1', 'Q2'], dtype='object')"
      ]
     },
     "execution_count": 86,
     "metadata": {},
     "output_type": "execute_result"
    }
   ],
   "source": [
    "df.columns"
   ]
  },
  {
   "cell_type": "markdown",
   "id": "fbe65cb5-011c-40e4-b38b-9e72311e0a42",
   "metadata": {},
   "source": [
    "Get data of 'edad', 'cm' and 'Q1'"
   ]
  },
  {
   "cell_type": "code",
   "execution_count": 87,
   "id": "951851ea-1443-43f6-89b4-c775ce1ced94",
   "metadata": {},
   "outputs": [
    {
     "data": {
      "text/html": [
       "<div>\n",
       "<style scoped>\n",
       "    .dataframe tbody tr th:only-of-type {\n",
       "        vertical-align: middle;\n",
       "    }\n",
       "\n",
       "    .dataframe tbody tr th {\n",
       "        vertical-align: top;\n",
       "    }\n",
       "\n",
       "    .dataframe thead th {\n",
       "        text-align: right;\n",
       "    }\n",
       "</style>\n",
       "<table border=\"1\" class=\"dataframe\">\n",
       "  <thead>\n",
       "    <tr style=\"text-align: right;\">\n",
       "      <th></th>\n",
       "      <th>edad</th>\n",
       "      <th>cm</th>\n",
       "      <th>Q1</th>\n",
       "    </tr>\n",
       "  </thead>\n",
       "  <tbody>\n",
       "    <tr>\n",
       "      <th>ana</th>\n",
       "      <td>10</td>\n",
       "      <td>115</td>\n",
       "      <td>5.0</td>\n",
       "    </tr>\n",
       "    <tr>\n",
       "      <th>benito</th>\n",
       "      <td>9</td>\n",
       "      <td>110</td>\n",
       "      <td>10.0</td>\n",
       "    </tr>\n",
       "    <tr>\n",
       "      <th>camilo</th>\n",
       "      <td>13</td>\n",
       "      <td>130</td>\n",
       "      <td>8.0</td>\n",
       "    </tr>\n",
       "    <tr>\n",
       "      <th>daniel</th>\n",
       "      <td>14</td>\n",
       "      <td>155</td>\n",
       "      <td>NaN</td>\n",
       "    </tr>\n",
       "    <tr>\n",
       "      <th>erika</th>\n",
       "      <td>12</td>\n",
       "      <td>125</td>\n",
       "      <td>7.0</td>\n",
       "    </tr>\n",
       "    <tr>\n",
       "      <th>fabian</th>\n",
       "      <td>11</td>\n",
       "      <td>120</td>\n",
       "      <td>8.0</td>\n",
       "    </tr>\n",
       "    <tr>\n",
       "      <th>gabriela</th>\n",
       "      <td>12</td>\n",
       "      <td>125</td>\n",
       "      <td>3.0</td>\n",
       "    </tr>\n",
       "  </tbody>\n",
       "</table>\n",
       "</div>"
      ],
      "text/plain": [
       "          edad   cm    Q1\n",
       "ana         10  115   5.0\n",
       "benito       9  110  10.0\n",
       "camilo      13  130   8.0\n",
       "daniel      14  155   NaN\n",
       "erika       12  125   7.0\n",
       "fabian      11  120   8.0\n",
       "gabriela    12  125   3.0"
      ]
     },
     "execution_count": 87,
     "metadata": {},
     "output_type": "execute_result"
    }
   ],
   "source": [
    "df[['edad','cm','Q1']]"
   ]
  },
  {
   "cell_type": "markdown",
   "id": "a0f20194-9ff6-4d01-9ff9-ec05dc45b39e",
   "metadata": {},
   "source": [
    "Get an specific index from dataframe."
   ]
  },
  {
   "cell_type": "code",
   "execution_count": 88,
   "id": "42f58be3-9b41-4e61-a94f-f1d15a2eccb9",
   "metadata": {},
   "outputs": [
    {
     "data": {
      "text/plain": [
       "edad       12\n",
       "cm        125\n",
       "pais       mx\n",
       "genero      M\n",
       "Q1        7.0\n",
       "Q2        8.0\n",
       "Name: erika, dtype: object"
      ]
     },
     "execution_count": 88,
     "metadata": {},
     "output_type": "execute_result"
    }
   ],
   "source": [
    "df.loc['erika']  # use the index value"
   ]
  },
  {
   "cell_type": "markdown",
   "id": "697c9ae3-aa91-477e-91b7-7d219b982d3c",
   "metadata": {},
   "source": [
    "The output will be a pandas Series"
   ]
  },
  {
   "cell_type": "code",
   "execution_count": 89,
   "id": "c426957d-4cfe-4f94-964c-fa2e5b40be0e",
   "metadata": {},
   "outputs": [
    {
     "data": {
      "text/plain": [
       "pandas.core.series.Series"
      ]
     },
     "execution_count": 89,
     "metadata": {},
     "output_type": "execute_result"
    }
   ],
   "source": [
    "type(df.loc['daniel'])"
   ]
  },
  {
   "cell_type": "code",
   "execution_count": 90,
   "id": "5e3d3672-5548-483e-b805-180ce2d4bb21",
   "metadata": {},
   "outputs": [
    {
     "data": {
      "text/plain": [
       "14"
      ]
     },
     "execution_count": 90,
     "metadata": {},
     "output_type": "execute_result"
    }
   ],
   "source": [
    "df.loc['daniel','edad']  # get a single value from an index"
   ]
  },
  {
   "cell_type": "markdown",
   "id": "d7b03863-fca7-4144-b2ec-3823e1b3a672",
   "metadata": {},
   "source": [
    "Retrive a value inside dataframe using its coordinates: `pd.iloc(row,column')`"
   ]
  },
  {
   "cell_type": "code",
   "execution_count": 91,
   "id": "fd22ead8-261d-4ec0-84cf-0757064b9403",
   "metadata": {},
   "outputs": [
    {
     "data": {
      "text/plain": [
       "'mx'"
      ]
     },
     "execution_count": 91,
     "metadata": {},
     "output_type": "execute_result"
    }
   ],
   "source": [
    "df.iloc[4,2] # get 'pais' from index 'erika' --> 'mx'"
   ]
  },
  {
   "cell_type": "code",
   "execution_count": 92,
   "id": "72d09464-7f0a-49eb-93d2-e86819b85d08",
   "metadata": {},
   "outputs": [
    {
     "data": {
      "text/plain": [
       "edad      9\n",
       "Q2      9.0\n",
       "Name: benito, dtype: object"
      ]
     },
     "execution_count": 92,
     "metadata": {},
     "output_type": "execute_result"
    }
   ],
   "source": [
    "df.iloc[1,[0,5]]  # get 'edad' and 'Q2' values"
   ]
  },
  {
   "cell_type": "markdown",
   "id": "d40893ca-cd84-443b-affb-bdd9719e90f7",
   "metadata": {},
   "source": [
    "At above output, the index name of that index becomes the name for output pd Series"
   ]
  },
  {
   "cell_type": "markdown",
   "id": "879ef34e-5412-484f-9cdc-602d4f8b1fd3",
   "metadata": {},
   "source": [
    "Use of masks to retrieve data from df"
   ]
  },
  {
   "cell_type": "code",
   "execution_count": 93,
   "id": "fafe0efd-c730-49a2-9811-22c21718b897",
   "metadata": {},
   "outputs": [
    {
     "name": "stdout",
     "output_type": "stream",
     "text": [
      "Edad > 12\n",
      "ana         False\n",
      "benito      False\n",
      "camilo       True\n",
      "daniel       True\n",
      "erika        True\n",
      "fabian      False\n",
      "gabriela     True\n",
      "Name: edad, dtype: bool\n",
      "Records that fulfill age criterium:\n"
     ]
    },
    {
     "data": {
      "text/html": [
       "<div>\n",
       "<style scoped>\n",
       "    .dataframe tbody tr th:only-of-type {\n",
       "        vertical-align: middle;\n",
       "    }\n",
       "\n",
       "    .dataframe tbody tr th {\n",
       "        vertical-align: top;\n",
       "    }\n",
       "\n",
       "    .dataframe thead th {\n",
       "        text-align: right;\n",
       "    }\n",
       "</style>\n",
       "<table border=\"1\" class=\"dataframe\">\n",
       "  <thead>\n",
       "    <tr style=\"text-align: right;\">\n",
       "      <th></th>\n",
       "      <th>edad</th>\n",
       "      <th>cm</th>\n",
       "      <th>pais</th>\n",
       "      <th>genero</th>\n",
       "      <th>Q1</th>\n",
       "      <th>Q2</th>\n",
       "    </tr>\n",
       "  </thead>\n",
       "  <tbody>\n",
       "    <tr>\n",
       "      <th>camilo</th>\n",
       "      <td>13</td>\n",
       "      <td>130</td>\n",
       "      <td>co</td>\n",
       "      <td>F</td>\n",
       "      <td>8.0</td>\n",
       "      <td>9.0</td>\n",
       "    </tr>\n",
       "    <tr>\n",
       "      <th>daniel</th>\n",
       "      <td>14</td>\n",
       "      <td>155</td>\n",
       "      <td>mx</td>\n",
       "      <td>M</td>\n",
       "      <td>NaN</td>\n",
       "      <td>8.0</td>\n",
       "    </tr>\n",
       "    <tr>\n",
       "      <th>erika</th>\n",
       "      <td>12</td>\n",
       "      <td>125</td>\n",
       "      <td>mx</td>\n",
       "      <td>M</td>\n",
       "      <td>7.0</td>\n",
       "      <td>8.0</td>\n",
       "    </tr>\n",
       "    <tr>\n",
       "      <th>gabriela</th>\n",
       "      <td>12</td>\n",
       "      <td>125</td>\n",
       "      <td>ch</td>\n",
       "      <td>F</td>\n",
       "      <td>3.0</td>\n",
       "      <td>9.0</td>\n",
       "    </tr>\n",
       "  </tbody>\n",
       "</table>\n",
       "</div>"
      ],
      "text/plain": [
       "          edad   cm pais genero   Q1   Q2\n",
       "camilo      13  130   co      F  8.0  9.0\n",
       "daniel      14  155   mx      M  NaN  8.0\n",
       "erika       12  125   mx      M  7.0  8.0\n",
       "gabriela    12  125   ch      F  3.0  9.0"
      ]
     },
     "execution_count": 93,
     "metadata": {},
     "output_type": "execute_result"
    }
   ],
   "source": [
    "mask = df['edad'] >= 12\n",
    "print('Edad > 12')\n",
    "print(mask)\n",
    "print('Records that fulfill age criterium:')\n",
    "df[mask]"
   ]
  },
  {
   "cell_type": "markdown",
   "id": "47eed96b-b08c-4cf9-9b1a-d93a59df6655",
   "metadata": {},
   "source": [
    "Alternatively we can retrive data fulfilling criteria using `.query()` method"
   ]
  },
  {
   "cell_type": "code",
   "execution_count": 94,
   "id": "86f41f9c-3055-4199-ad0f-38b88f3eb5e9",
   "metadata": {},
   "outputs": [
    {
     "data": {
      "text/html": [
       "<div>\n",
       "<style scoped>\n",
       "    .dataframe tbody tr th:only-of-type {\n",
       "        vertical-align: middle;\n",
       "    }\n",
       "\n",
       "    .dataframe tbody tr th {\n",
       "        vertical-align: top;\n",
       "    }\n",
       "\n",
       "    .dataframe thead th {\n",
       "        text-align: right;\n",
       "    }\n",
       "</style>\n",
       "<table border=\"1\" class=\"dataframe\">\n",
       "  <thead>\n",
       "    <tr style=\"text-align: right;\">\n",
       "      <th></th>\n",
       "      <th>edad</th>\n",
       "      <th>cm</th>\n",
       "      <th>pais</th>\n",
       "      <th>genero</th>\n",
       "      <th>Q1</th>\n",
       "      <th>Q2</th>\n",
       "    </tr>\n",
       "  </thead>\n",
       "  <tbody>\n",
       "    <tr>\n",
       "      <th>camilo</th>\n",
       "      <td>13</td>\n",
       "      <td>130</td>\n",
       "      <td>co</td>\n",
       "      <td>F</td>\n",
       "      <td>8.0</td>\n",
       "      <td>9.0</td>\n",
       "    </tr>\n",
       "    <tr>\n",
       "      <th>daniel</th>\n",
       "      <td>14</td>\n",
       "      <td>155</td>\n",
       "      <td>mx</td>\n",
       "      <td>M</td>\n",
       "      <td>NaN</td>\n",
       "      <td>8.0</td>\n",
       "    </tr>\n",
       "  </tbody>\n",
       "</table>\n",
       "</div>"
      ],
      "text/plain": [
       "        edad   cm pais genero   Q1   Q2\n",
       "camilo    13  130   co      F  8.0  9.0\n",
       "daniel    14  155   mx      M  NaN  8.0"
      ]
     },
     "execution_count": 94,
     "metadata": {},
     "output_type": "execute_result"
    }
   ],
   "source": [
    "df.query('edad > 12')"
   ]
  },
  {
   "cell_type": "code",
   "execution_count": 95,
   "id": "cae8e5d3-c7c5-4e59-a482-b413fb755c4c",
   "metadata": {},
   "outputs": [
    {
     "data": {
      "text/html": [
       "<div>\n",
       "<style scoped>\n",
       "    .dataframe tbody tr th:only-of-type {\n",
       "        vertical-align: middle;\n",
       "    }\n",
       "\n",
       "    .dataframe tbody tr th {\n",
       "        vertical-align: top;\n",
       "    }\n",
       "\n",
       "    .dataframe thead th {\n",
       "        text-align: right;\n",
       "    }\n",
       "</style>\n",
       "<table border=\"1\" class=\"dataframe\">\n",
       "  <thead>\n",
       "    <tr style=\"text-align: right;\">\n",
       "      <th></th>\n",
       "      <th>edad</th>\n",
       "      <th>cm</th>\n",
       "      <th>pais</th>\n",
       "      <th>genero</th>\n",
       "      <th>Q1</th>\n",
       "      <th>Q2</th>\n",
       "    </tr>\n",
       "  </thead>\n",
       "  <tbody>\n",
       "    <tr>\n",
       "      <th>ana</th>\n",
       "      <td>10</td>\n",
       "      <td>115</td>\n",
       "      <td>co</td>\n",
       "      <td>M</td>\n",
       "      <td>5.0</td>\n",
       "      <td>7.0</td>\n",
       "    </tr>\n",
       "    <tr>\n",
       "      <th>camilo</th>\n",
       "      <td>13</td>\n",
       "      <td>130</td>\n",
       "      <td>co</td>\n",
       "      <td>F</td>\n",
       "      <td>8.0</td>\n",
       "      <td>9.0</td>\n",
       "    </tr>\n",
       "    <tr>\n",
       "      <th>erika</th>\n",
       "      <td>12</td>\n",
       "      <td>125</td>\n",
       "      <td>mx</td>\n",
       "      <td>M</td>\n",
       "      <td>7.0</td>\n",
       "      <td>8.0</td>\n",
       "    </tr>\n",
       "    <tr>\n",
       "      <th>fabian</th>\n",
       "      <td>11</td>\n",
       "      <td>120</td>\n",
       "      <td>ch</td>\n",
       "      <td>M</td>\n",
       "      <td>8.0</td>\n",
       "      <td>8.0</td>\n",
       "    </tr>\n",
       "    <tr>\n",
       "      <th>gabriela</th>\n",
       "      <td>12</td>\n",
       "      <td>125</td>\n",
       "      <td>ch</td>\n",
       "      <td>F</td>\n",
       "      <td>3.0</td>\n",
       "      <td>9.0</td>\n",
       "    </tr>\n",
       "  </tbody>\n",
       "</table>\n",
       "</div>"
      ],
      "text/plain": [
       "          edad   cm pais genero   Q1   Q2\n",
       "ana         10  115   co      M  5.0  7.0\n",
       "camilo      13  130   co      F  8.0  9.0\n",
       "erika       12  125   mx      M  7.0  8.0\n",
       "fabian      11  120   ch      M  8.0  8.0\n",
       "gabriela    12  125   ch      F  3.0  9.0"
      ]
     },
     "execution_count": 95,
     "metadata": {},
     "output_type": "execute_result"
    }
   ],
   "source": [
    "mask = df['Q1'] <= df['Q2']  # students who improved their marks\n",
    "df[mask]"
   ]
  },
  {
   "cell_type": "markdown",
   "id": "7ae4d511-4a3e-4b74-84c0-c86b272ddac8",
   "metadata": {},
   "source": [
    "Use numpy method `np.where(condition, value if True, value if False)` to estimate percentage of improvement in marks"
   ]
  },
  {
   "cell_type": "code",
   "execution_count": 96,
   "id": "6276d53a",
   "metadata": {},
   "outputs": [],
   "source": [
    "df['Mejora, %'] = np.where(df['Q2'] > df['Q1'],  (df['Q2']-df['Q1'])/df['Q1']*100, np.nan)"
   ]
  },
  {
   "cell_type": "code",
   "execution_count": 97,
   "id": "bf37be13",
   "metadata": {},
   "outputs": [
    {
     "data": {
      "text/plain": [
       "Index(['edad', 'cm', 'pais', 'genero', 'Q1', 'Q2', 'Mejora, %'], dtype='object')"
      ]
     },
     "execution_count": 97,
     "metadata": {},
     "output_type": "execute_result"
    }
   ],
   "source": [
    "df.columns"
   ]
  },
  {
   "cell_type": "markdown",
   "id": "a3b99e52",
   "metadata": {},
   "source": [
    "Change visualization of data `dataframe.style.format`"
   ]
  },
  {
   "cell_type": "code",
   "execution_count": 98,
   "id": "ff901fe1-2949-41c2-8e6c-4aa9980f4da4",
   "metadata": {},
   "outputs": [
    {
     "data": {
      "text/html": [
       "<style type=\"text/css\">\n",
       "</style>\n",
       "<table id=\"T_9087b_\">\n",
       "  <thead>\n",
       "    <tr>\n",
       "      <th class=\"blank level0\" >&nbsp;</th>\n",
       "      <th class=\"col_heading level0 col0\" >edad</th>\n",
       "      <th class=\"col_heading level0 col1\" >cm</th>\n",
       "      <th class=\"col_heading level0 col2\" >pais</th>\n",
       "      <th class=\"col_heading level0 col3\" >genero</th>\n",
       "      <th class=\"col_heading level0 col4\" >Q1</th>\n",
       "      <th class=\"col_heading level0 col5\" >Q2</th>\n",
       "      <th class=\"col_heading level0 col6\" >Mejora, %</th>\n",
       "    </tr>\n",
       "  </thead>\n",
       "  <tbody>\n",
       "    <tr>\n",
       "      <th id=\"T_9087b_level0_row0\" class=\"row_heading level0 row0\" >ana</th>\n",
       "      <td id=\"T_9087b_row0_col0\" class=\"data row0 col0\" >10</td>\n",
       "      <td id=\"T_9087b_row0_col1\" class=\"data row0 col1\" >115</td>\n",
       "      <td id=\"T_9087b_row0_col2\" class=\"data row0 col2\" >co</td>\n",
       "      <td id=\"T_9087b_row0_col3\" class=\"data row0 col3\" >M</td>\n",
       "      <td id=\"T_9087b_row0_col4\" class=\"data row0 col4\" >5</td>\n",
       "      <td id=\"T_9087b_row0_col5\" class=\"data row0 col5\" >7</td>\n",
       "      <td id=\"T_9087b_row0_col6\" class=\"data row0 col6\" >40.00</td>\n",
       "    </tr>\n",
       "    <tr>\n",
       "      <th id=\"T_9087b_level0_row1\" class=\"row_heading level0 row1\" >benito</th>\n",
       "      <td id=\"T_9087b_row1_col0\" class=\"data row1 col0\" >9</td>\n",
       "      <td id=\"T_9087b_row1_col1\" class=\"data row1 col1\" >110</td>\n",
       "      <td id=\"T_9087b_row1_col2\" class=\"data row1 col2\" >mx</td>\n",
       "      <td id=\"T_9087b_row1_col3\" class=\"data row1 col3\" >F</td>\n",
       "      <td id=\"T_9087b_row1_col4\" class=\"data row1 col4\" >10</td>\n",
       "      <td id=\"T_9087b_row1_col5\" class=\"data row1 col5\" >9</td>\n",
       "      <td id=\"T_9087b_row1_col6\" class=\"data row1 col6\" >nan</td>\n",
       "    </tr>\n",
       "    <tr>\n",
       "      <th id=\"T_9087b_level0_row2\" class=\"row_heading level0 row2\" >camilo</th>\n",
       "      <td id=\"T_9087b_row2_col0\" class=\"data row2 col0\" >13</td>\n",
       "      <td id=\"T_9087b_row2_col1\" class=\"data row2 col1\" >130</td>\n",
       "      <td id=\"T_9087b_row2_col2\" class=\"data row2 col2\" >co</td>\n",
       "      <td id=\"T_9087b_row2_col3\" class=\"data row2 col3\" >F</td>\n",
       "      <td id=\"T_9087b_row2_col4\" class=\"data row2 col4\" >8</td>\n",
       "      <td id=\"T_9087b_row2_col5\" class=\"data row2 col5\" >9</td>\n",
       "      <td id=\"T_9087b_row2_col6\" class=\"data row2 col6\" >12.50</td>\n",
       "    </tr>\n",
       "    <tr>\n",
       "      <th id=\"T_9087b_level0_row3\" class=\"row_heading level0 row3\" >daniel</th>\n",
       "      <td id=\"T_9087b_row3_col0\" class=\"data row3 col0\" >14</td>\n",
       "      <td id=\"T_9087b_row3_col1\" class=\"data row3 col1\" >155</td>\n",
       "      <td id=\"T_9087b_row3_col2\" class=\"data row3 col2\" >mx</td>\n",
       "      <td id=\"T_9087b_row3_col3\" class=\"data row3 col3\" >M</td>\n",
       "      <td id=\"T_9087b_row3_col4\" class=\"data row3 col4\" >nan</td>\n",
       "      <td id=\"T_9087b_row3_col5\" class=\"data row3 col5\" >8</td>\n",
       "      <td id=\"T_9087b_row3_col6\" class=\"data row3 col6\" >nan</td>\n",
       "    </tr>\n",
       "    <tr>\n",
       "      <th id=\"T_9087b_level0_row4\" class=\"row_heading level0 row4\" >erika</th>\n",
       "      <td id=\"T_9087b_row4_col0\" class=\"data row4 col0\" >12</td>\n",
       "      <td id=\"T_9087b_row4_col1\" class=\"data row4 col1\" >125</td>\n",
       "      <td id=\"T_9087b_row4_col2\" class=\"data row4 col2\" >mx</td>\n",
       "      <td id=\"T_9087b_row4_col3\" class=\"data row4 col3\" >M</td>\n",
       "      <td id=\"T_9087b_row4_col4\" class=\"data row4 col4\" >7</td>\n",
       "      <td id=\"T_9087b_row4_col5\" class=\"data row4 col5\" >8</td>\n",
       "      <td id=\"T_9087b_row4_col6\" class=\"data row4 col6\" >14.29</td>\n",
       "    </tr>\n",
       "    <tr>\n",
       "      <th id=\"T_9087b_level0_row5\" class=\"row_heading level0 row5\" >fabian</th>\n",
       "      <td id=\"T_9087b_row5_col0\" class=\"data row5 col0\" >11</td>\n",
       "      <td id=\"T_9087b_row5_col1\" class=\"data row5 col1\" >120</td>\n",
       "      <td id=\"T_9087b_row5_col2\" class=\"data row5 col2\" >ch</td>\n",
       "      <td id=\"T_9087b_row5_col3\" class=\"data row5 col3\" >M</td>\n",
       "      <td id=\"T_9087b_row5_col4\" class=\"data row5 col4\" >8</td>\n",
       "      <td id=\"T_9087b_row5_col5\" class=\"data row5 col5\" >8</td>\n",
       "      <td id=\"T_9087b_row5_col6\" class=\"data row5 col6\" >nan</td>\n",
       "    </tr>\n",
       "    <tr>\n",
       "      <th id=\"T_9087b_level0_row6\" class=\"row_heading level0 row6\" >gabriela</th>\n",
       "      <td id=\"T_9087b_row6_col0\" class=\"data row6 col0\" >12</td>\n",
       "      <td id=\"T_9087b_row6_col1\" class=\"data row6 col1\" >125</td>\n",
       "      <td id=\"T_9087b_row6_col2\" class=\"data row6 col2\" >ch</td>\n",
       "      <td id=\"T_9087b_row6_col3\" class=\"data row6 col3\" >F</td>\n",
       "      <td id=\"T_9087b_row6_col4\" class=\"data row6 col4\" >3</td>\n",
       "      <td id=\"T_9087b_row6_col5\" class=\"data row6 col5\" >9</td>\n",
       "      <td id=\"T_9087b_row6_col6\" class=\"data row6 col6\" >200.00</td>\n",
       "    </tr>\n",
       "  </tbody>\n",
       "</table>\n"
      ],
      "text/plain": [
       "<pandas.io.formats.style.Styler at 0x7fa22cfdf820>"
      ]
     },
     "execution_count": 98,
     "metadata": {},
     "output_type": "execute_result"
    }
   ],
   "source": [
    "# find out how to adjust numerical precision\n",
    "df.style.format(na_rep='MISS', subset=['Q1', 'Q2', 'Mejora, %']).format(precision=2, subset=['Mejora, %']).format(precision=0, subset=['Q1', 'Q2'])"
   ]
  },
  {
   "cell_type": "code",
   "execution_count": 99,
   "id": "fb22e26c",
   "metadata": {},
   "outputs": [
    {
     "ename": "KeyError",
     "evalue": "'Mejora (%)'",
     "output_type": "error",
     "traceback": [
      "\u001b[0;31m---------------------------------------------------------------------------\u001b[0m",
      "\u001b[0;31mKeyError\u001b[0m                                  Traceback (most recent call last)",
      "File \u001b[0;32m~/.local/lib/python3.10/site-packages/pandas/core/indexes/base.py:3361\u001b[0m, in \u001b[0;36mIndex.get_loc\u001b[0;34m(self, key, method, tolerance)\u001b[0m\n\u001b[1;32m   3360\u001b[0m \u001b[38;5;28;01mtry\u001b[39;00m:\n\u001b[0;32m-> 3361\u001b[0m     \u001b[38;5;28;01mreturn\u001b[39;00m \u001b[38;5;28;43mself\u001b[39;49m\u001b[38;5;241;43m.\u001b[39;49m\u001b[43m_engine\u001b[49m\u001b[38;5;241;43m.\u001b[39;49m\u001b[43mget_loc\u001b[49m\u001b[43m(\u001b[49m\u001b[43mcasted_key\u001b[49m\u001b[43m)\u001b[49m\n\u001b[1;32m   3362\u001b[0m \u001b[38;5;28;01mexcept\u001b[39;00m \u001b[38;5;167;01mKeyError\u001b[39;00m \u001b[38;5;28;01mas\u001b[39;00m err:\n",
      "File \u001b[0;32m~/.local/lib/python3.10/site-packages/pandas/_libs/index.pyx:76\u001b[0m, in \u001b[0;36mpandas._libs.index.IndexEngine.get_loc\u001b[0;34m()\u001b[0m\n",
      "File \u001b[0;32m~/.local/lib/python3.10/site-packages/pandas/_libs/index.pyx:108\u001b[0m, in \u001b[0;36mpandas._libs.index.IndexEngine.get_loc\u001b[0;34m()\u001b[0m\n",
      "File \u001b[0;32mpandas/_libs/hashtable_class_helper.pxi:5198\u001b[0m, in \u001b[0;36mpandas._libs.hashtable.PyObjectHashTable.get_item\u001b[0;34m()\u001b[0m\n",
      "File \u001b[0;32mpandas/_libs/hashtable_class_helper.pxi:5206\u001b[0m, in \u001b[0;36mpandas._libs.hashtable.PyObjectHashTable.get_item\u001b[0;34m()\u001b[0m\n",
      "\u001b[0;31mKeyError\u001b[0m: 'Mejora (%)'",
      "\nThe above exception was the direct cause of the following exception:\n",
      "\u001b[0;31mKeyError\u001b[0m                                  Traceback (most recent call last)",
      "Input \u001b[0;32mIn [99]\u001b[0m, in \u001b[0;36m<cell line: 2>\u001b[0;34m()\u001b[0m\n\u001b[1;32m      1\u001b[0m \u001b[38;5;66;03m# show only students who have improved their marks\u001b[39;00m\n\u001b[0;32m----> 2\u001b[0m df[ \u001b[43mdf\u001b[49m\u001b[43m[\u001b[49m\u001b[38;5;124;43m'\u001b[39;49m\u001b[38;5;124;43mMejora (\u001b[39;49m\u001b[38;5;124;43m%\u001b[39;49m\u001b[38;5;124;43m)\u001b[39;49m\u001b[38;5;124;43m'\u001b[39;49m\u001b[43m]\u001b[49m\u001b[38;5;241m.\u001b[39mnotnull() ]\n",
      "File \u001b[0;32m~/.local/lib/python3.10/site-packages/pandas/core/frame.py:3458\u001b[0m, in \u001b[0;36mDataFrame.__getitem__\u001b[0;34m(self, key)\u001b[0m\n\u001b[1;32m   3456\u001b[0m \u001b[38;5;28;01mif\u001b[39;00m \u001b[38;5;28mself\u001b[39m\u001b[38;5;241m.\u001b[39mcolumns\u001b[38;5;241m.\u001b[39mnlevels \u001b[38;5;241m>\u001b[39m \u001b[38;5;241m1\u001b[39m:\n\u001b[1;32m   3457\u001b[0m     \u001b[38;5;28;01mreturn\u001b[39;00m \u001b[38;5;28mself\u001b[39m\u001b[38;5;241m.\u001b[39m_getitem_multilevel(key)\n\u001b[0;32m-> 3458\u001b[0m indexer \u001b[38;5;241m=\u001b[39m \u001b[38;5;28;43mself\u001b[39;49m\u001b[38;5;241;43m.\u001b[39;49m\u001b[43mcolumns\u001b[49m\u001b[38;5;241;43m.\u001b[39;49m\u001b[43mget_loc\u001b[49m\u001b[43m(\u001b[49m\u001b[43mkey\u001b[49m\u001b[43m)\u001b[49m\n\u001b[1;32m   3459\u001b[0m \u001b[38;5;28;01mif\u001b[39;00m is_integer(indexer):\n\u001b[1;32m   3460\u001b[0m     indexer \u001b[38;5;241m=\u001b[39m [indexer]\n",
      "File \u001b[0;32m~/.local/lib/python3.10/site-packages/pandas/core/indexes/base.py:3363\u001b[0m, in \u001b[0;36mIndex.get_loc\u001b[0;34m(self, key, method, tolerance)\u001b[0m\n\u001b[1;32m   3361\u001b[0m         \u001b[38;5;28;01mreturn\u001b[39;00m \u001b[38;5;28mself\u001b[39m\u001b[38;5;241m.\u001b[39m_engine\u001b[38;5;241m.\u001b[39mget_loc(casted_key)\n\u001b[1;32m   3362\u001b[0m     \u001b[38;5;28;01mexcept\u001b[39;00m \u001b[38;5;167;01mKeyError\u001b[39;00m \u001b[38;5;28;01mas\u001b[39;00m err:\n\u001b[0;32m-> 3363\u001b[0m         \u001b[38;5;28;01mraise\u001b[39;00m \u001b[38;5;167;01mKeyError\u001b[39;00m(key) \u001b[38;5;28;01mfrom\u001b[39;00m \u001b[38;5;21;01merr\u001b[39;00m\n\u001b[1;32m   3365\u001b[0m \u001b[38;5;28;01mif\u001b[39;00m is_scalar(key) \u001b[38;5;129;01mand\u001b[39;00m isna(key) \u001b[38;5;129;01mand\u001b[39;00m \u001b[38;5;129;01mnot\u001b[39;00m \u001b[38;5;28mself\u001b[39m\u001b[38;5;241m.\u001b[39mhasnans:\n\u001b[1;32m   3366\u001b[0m     \u001b[38;5;28;01mraise\u001b[39;00m \u001b[38;5;167;01mKeyError\u001b[39;00m(key)\n",
      "\u001b[0;31mKeyError\u001b[0m: 'Mejora (%)'"
     ]
    }
   ],
   "source": [
    "# show only students who have improved their marks\n",
    "df[ df['Mejora (%)'].notnull() ]"
   ]
  },
  {
   "cell_type": "code",
   "execution_count": 102,
   "id": "58a94764",
   "metadata": {},
   "outputs": [],
   "source": [
    "# use index=False not to store the index in the csv file\n",
    "df.to_csv('student_marks.csv')"
   ]
  },
  {
   "cell_type": "code",
   "execution_count": 103,
   "id": "08e1a5bd",
   "metadata": {},
   "outputs": [
    {
     "data": {
      "text/html": [
       "<div>\n",
       "<style scoped>\n",
       "    .dataframe tbody tr th:only-of-type {\n",
       "        vertical-align: middle;\n",
       "    }\n",
       "\n",
       "    .dataframe tbody tr th {\n",
       "        vertical-align: top;\n",
       "    }\n",
       "\n",
       "    .dataframe thead th {\n",
       "        text-align: right;\n",
       "    }\n",
       "</style>\n",
       "<table border=\"1\" class=\"dataframe\">\n",
       "  <thead>\n",
       "    <tr style=\"text-align: right;\">\n",
       "      <th></th>\n",
       "      <th>Unnamed: 0</th>\n",
       "      <th>edad</th>\n",
       "      <th>cm</th>\n",
       "      <th>pais</th>\n",
       "      <th>genero</th>\n",
       "      <th>Q1</th>\n",
       "      <th>Q2</th>\n",
       "      <th>Mejora, %</th>\n",
       "    </tr>\n",
       "  </thead>\n",
       "  <tbody>\n",
       "    <tr>\n",
       "      <th>0</th>\n",
       "      <td>ana</td>\n",
       "      <td>10</td>\n",
       "      <td>115</td>\n",
       "      <td>co</td>\n",
       "      <td>M</td>\n",
       "      <td>5.0</td>\n",
       "      <td>7.0</td>\n",
       "      <td>40.000000</td>\n",
       "    </tr>\n",
       "    <tr>\n",
       "      <th>1</th>\n",
       "      <td>benito</td>\n",
       "      <td>9</td>\n",
       "      <td>110</td>\n",
       "      <td>mx</td>\n",
       "      <td>F</td>\n",
       "      <td>10.0</td>\n",
       "      <td>9.0</td>\n",
       "      <td>NaN</td>\n",
       "    </tr>\n",
       "    <tr>\n",
       "      <th>2</th>\n",
       "      <td>camilo</td>\n",
       "      <td>13</td>\n",
       "      <td>130</td>\n",
       "      <td>co</td>\n",
       "      <td>F</td>\n",
       "      <td>8.0</td>\n",
       "      <td>9.0</td>\n",
       "      <td>12.500000</td>\n",
       "    </tr>\n",
       "    <tr>\n",
       "      <th>3</th>\n",
       "      <td>daniel</td>\n",
       "      <td>14</td>\n",
       "      <td>155</td>\n",
       "      <td>mx</td>\n",
       "      <td>M</td>\n",
       "      <td>NaN</td>\n",
       "      <td>8.0</td>\n",
       "      <td>NaN</td>\n",
       "    </tr>\n",
       "    <tr>\n",
       "      <th>4</th>\n",
       "      <td>erika</td>\n",
       "      <td>12</td>\n",
       "      <td>125</td>\n",
       "      <td>mx</td>\n",
       "      <td>M</td>\n",
       "      <td>7.0</td>\n",
       "      <td>8.0</td>\n",
       "      <td>14.285714</td>\n",
       "    </tr>\n",
       "    <tr>\n",
       "      <th>5</th>\n",
       "      <td>fabian</td>\n",
       "      <td>11</td>\n",
       "      <td>120</td>\n",
       "      <td>ch</td>\n",
       "      <td>M</td>\n",
       "      <td>8.0</td>\n",
       "      <td>8.0</td>\n",
       "      <td>NaN</td>\n",
       "    </tr>\n",
       "    <tr>\n",
       "      <th>6</th>\n",
       "      <td>gabriela</td>\n",
       "      <td>12</td>\n",
       "      <td>125</td>\n",
       "      <td>ch</td>\n",
       "      <td>F</td>\n",
       "      <td>3.0</td>\n",
       "      <td>9.0</td>\n",
       "      <td>200.000000</td>\n",
       "    </tr>\n",
       "  </tbody>\n",
       "</table>\n",
       "</div>"
      ],
      "text/plain": [
       "  Unnamed: 0  edad   cm pais genero    Q1   Q2   Mejora, %\n",
       "0        ana    10  115   co      M   5.0  7.0   40.000000\n",
       "1     benito     9  110   mx      F  10.0  9.0         NaN\n",
       "2     camilo    13  130   co      F   8.0  9.0   12.500000\n",
       "3     daniel    14  155   mx      M   NaN  8.0         NaN\n",
       "4      erika    12  125   mx      M   7.0  8.0   14.285714\n",
       "5     fabian    11  120   ch      M   8.0  8.0         NaN\n",
       "6   gabriela    12  125   ch      F   3.0  9.0  200.000000"
      ]
     },
     "execution_count": 103,
     "metadata": {},
     "output_type": "execute_result"
    }
   ],
   "source": [
    "df2 = pd.read_csv('student_marks.csv')\n",
    "df2"
   ]
  },
  {
   "cell_type": "code",
   "execution_count": null,
   "id": "45b1f5f2",
   "metadata": {},
   "outputs": [],
   "source": [
    "df.to_excel('student_marks.xlsx', index=False, sheet_name = 'Marks')"
   ]
  },
  {
   "cell_type": "code",
   "execution_count": null,
   "id": "b9e0463d",
   "metadata": {},
   "outputs": [],
   "source": [
    "df.to_json('student_marks.json')"
   ]
  },
  {
   "cell_type": "code",
   "execution_count": null,
   "id": "ecd72206",
   "metadata": {},
   "outputs": [],
   "source": [
    "pd.read_json('student_marks.json')"
   ]
  },
  {
   "cell_type": "code",
   "execution_count": null,
   "id": "768764ce",
   "metadata": {},
   "outputs": [],
   "source": [
    "!mv Meteorite_Landings.csv meteorite_landings.csv"
   ]
  },
  {
   "cell_type": "code",
   "execution_count": 2,
   "id": "071f6ea5",
   "metadata": {},
   "outputs": [
    {
     "data": {
      "text/html": [
       "<div>\n",
       "<style scoped>\n",
       "    .dataframe tbody tr th:only-of-type {\n",
       "        vertical-align: middle;\n",
       "    }\n",
       "\n",
       "    .dataframe tbody tr th {\n",
       "        vertical-align: top;\n",
       "    }\n",
       "\n",
       "    .dataframe thead th {\n",
       "        text-align: right;\n",
       "    }\n",
       "</style>\n",
       "<table border=\"1\" class=\"dataframe\">\n",
       "  <thead>\n",
       "    <tr style=\"text-align: right;\">\n",
       "      <th></th>\n",
       "      <th>name</th>\n",
       "      <th>id</th>\n",
       "      <th>nametype</th>\n",
       "      <th>recclass</th>\n",
       "      <th>mass (g)</th>\n",
       "      <th>fall</th>\n",
       "      <th>year</th>\n",
       "      <th>reclat</th>\n",
       "      <th>reclong</th>\n",
       "      <th>GeoLocation</th>\n",
       "    </tr>\n",
       "  </thead>\n",
       "  <tbody>\n",
       "    <tr>\n",
       "      <th>0</th>\n",
       "      <td>Aachen</td>\n",
       "      <td>1</td>\n",
       "      <td>Valid</td>\n",
       "      <td>L5</td>\n",
       "      <td>21.0</td>\n",
       "      <td>Fell</td>\n",
       "      <td>01/01/1880 12:00:00 AM</td>\n",
       "      <td>50.77500</td>\n",
       "      <td>6.08333</td>\n",
       "      <td>(50.775, 6.08333)</td>\n",
       "    </tr>\n",
       "    <tr>\n",
       "      <th>1</th>\n",
       "      <td>Aarhus</td>\n",
       "      <td>2</td>\n",
       "      <td>Valid</td>\n",
       "      <td>H6</td>\n",
       "      <td>720.0</td>\n",
       "      <td>Fell</td>\n",
       "      <td>01/01/1951 12:00:00 AM</td>\n",
       "      <td>56.18333</td>\n",
       "      <td>10.23333</td>\n",
       "      <td>(56.18333, 10.23333)</td>\n",
       "    </tr>\n",
       "    <tr>\n",
       "      <th>2</th>\n",
       "      <td>Abee</td>\n",
       "      <td>6</td>\n",
       "      <td>Valid</td>\n",
       "      <td>EH4</td>\n",
       "      <td>107000.0</td>\n",
       "      <td>Fell</td>\n",
       "      <td>01/01/1952 12:00:00 AM</td>\n",
       "      <td>54.21667</td>\n",
       "      <td>-113.00000</td>\n",
       "      <td>(54.21667, -113.0)</td>\n",
       "    </tr>\n",
       "    <tr>\n",
       "      <th>3</th>\n",
       "      <td>Acapulco</td>\n",
       "      <td>10</td>\n",
       "      <td>Valid</td>\n",
       "      <td>Acapulcoite</td>\n",
       "      <td>1914.0</td>\n",
       "      <td>Fell</td>\n",
       "      <td>01/01/1976 12:00:00 AM</td>\n",
       "      <td>16.88333</td>\n",
       "      <td>-99.90000</td>\n",
       "      <td>(16.88333, -99.9)</td>\n",
       "    </tr>\n",
       "    <tr>\n",
       "      <th>4</th>\n",
       "      <td>Achiras</td>\n",
       "      <td>370</td>\n",
       "      <td>Valid</td>\n",
       "      <td>L6</td>\n",
       "      <td>780.0</td>\n",
       "      <td>Fell</td>\n",
       "      <td>01/01/1902 12:00:00 AM</td>\n",
       "      <td>-33.16667</td>\n",
       "      <td>-64.95000</td>\n",
       "      <td>(-33.16667, -64.95)</td>\n",
       "    </tr>\n",
       "  </tbody>\n",
       "</table>\n",
       "</div>"
      ],
      "text/plain": [
       "       name   id nametype     recclass  mass (g)  fall  \\\n",
       "0    Aachen    1    Valid           L5      21.0  Fell   \n",
       "1    Aarhus    2    Valid           H6     720.0  Fell   \n",
       "2      Abee    6    Valid          EH4  107000.0  Fell   \n",
       "3  Acapulco   10    Valid  Acapulcoite    1914.0  Fell   \n",
       "4   Achiras  370    Valid           L6     780.0  Fell   \n",
       "\n",
       "                     year    reclat    reclong           GeoLocation  \n",
       "0  01/01/1880 12:00:00 AM  50.77500    6.08333     (50.775, 6.08333)  \n",
       "1  01/01/1951 12:00:00 AM  56.18333   10.23333  (56.18333, 10.23333)  \n",
       "2  01/01/1952 12:00:00 AM  54.21667 -113.00000    (54.21667, -113.0)  \n",
       "3  01/01/1976 12:00:00 AM  16.88333  -99.90000     (16.88333, -99.9)  \n",
       "4  01/01/1902 12:00:00 AM -33.16667  -64.95000   (-33.16667, -64.95)  "
      ]
     },
     "execution_count": 2,
     "metadata": {},
     "output_type": "execute_result"
    }
   ],
   "source": [
    "meteo = pd.read_csv('meteorite_landings.csv')\n",
    "meteo.head()"
   ]
  },
  {
   "cell_type": "code",
   "execution_count": null,
   "id": "3e9fe7c1",
   "metadata": {},
   "outputs": [],
   "source": [
    "meteo.tail()"
   ]
  },
  {
   "cell_type": "code",
   "execution_count": null,
   "id": "3ebea38e",
   "metadata": {},
   "outputs": [],
   "source": [
    "meteo.sample()  # shows a random label"
   ]
  },
  {
   "cell_type": "code",
   "execution_count": 105,
   "id": "20d20126",
   "metadata": {},
   "outputs": [
    {
     "data": {
      "text/html": [
       "<div>\n",
       "<style scoped>\n",
       "    .dataframe tbody tr th:only-of-type {\n",
       "        vertical-align: middle;\n",
       "    }\n",
       "\n",
       "    .dataframe tbody tr th {\n",
       "        vertical-align: top;\n",
       "    }\n",
       "\n",
       "    .dataframe thead th {\n",
       "        text-align: right;\n",
       "    }\n",
       "</style>\n",
       "<table border=\"1\" class=\"dataframe\">\n",
       "  <thead>\n",
       "    <tr style=\"text-align: right;\">\n",
       "      <th></th>\n",
       "      <th>id</th>\n",
       "      <th>mass (g)</th>\n",
       "      <th>reclat</th>\n",
       "      <th>reclong</th>\n",
       "    </tr>\n",
       "  </thead>\n",
       "  <tbody>\n",
       "    <tr>\n",
       "      <th>count</th>\n",
       "      <td>45716.000000</td>\n",
       "      <td>4.558500e+04</td>\n",
       "      <td>38401.000000</td>\n",
       "      <td>38401.000000</td>\n",
       "    </tr>\n",
       "    <tr>\n",
       "      <th>mean</th>\n",
       "      <td>26889.735104</td>\n",
       "      <td>1.327808e+04</td>\n",
       "      <td>-39.122580</td>\n",
       "      <td>61.074319</td>\n",
       "    </tr>\n",
       "    <tr>\n",
       "      <th>std</th>\n",
       "      <td>16860.683030</td>\n",
       "      <td>5.749889e+05</td>\n",
       "      <td>46.378511</td>\n",
       "      <td>80.647298</td>\n",
       "    </tr>\n",
       "    <tr>\n",
       "      <th>min</th>\n",
       "      <td>1.000000</td>\n",
       "      <td>0.000000e+00</td>\n",
       "      <td>-87.366670</td>\n",
       "      <td>-165.433330</td>\n",
       "    </tr>\n",
       "    <tr>\n",
       "      <th>25%</th>\n",
       "      <td>12688.750000</td>\n",
       "      <td>7.200000e+00</td>\n",
       "      <td>-76.714240</td>\n",
       "      <td>0.000000</td>\n",
       "    </tr>\n",
       "    <tr>\n",
       "      <th>50%</th>\n",
       "      <td>24261.500000</td>\n",
       "      <td>3.260000e+01</td>\n",
       "      <td>-71.500000</td>\n",
       "      <td>35.666670</td>\n",
       "    </tr>\n",
       "    <tr>\n",
       "      <th>75%</th>\n",
       "      <td>40656.750000</td>\n",
       "      <td>2.026000e+02</td>\n",
       "      <td>0.000000</td>\n",
       "      <td>157.166670</td>\n",
       "    </tr>\n",
       "    <tr>\n",
       "      <th>max</th>\n",
       "      <td>57458.000000</td>\n",
       "      <td>6.000000e+07</td>\n",
       "      <td>81.166670</td>\n",
       "      <td>354.473330</td>\n",
       "    </tr>\n",
       "  </tbody>\n",
       "</table>\n",
       "</div>"
      ],
      "text/plain": [
       "                 id      mass (g)        reclat       reclong\n",
       "count  45716.000000  4.558500e+04  38401.000000  38401.000000\n",
       "mean   26889.735104  1.327808e+04    -39.122580     61.074319\n",
       "std    16860.683030  5.749889e+05     46.378511     80.647298\n",
       "min        1.000000  0.000000e+00    -87.366670   -165.433330\n",
       "25%    12688.750000  7.200000e+00    -76.714240      0.000000\n",
       "50%    24261.500000  3.260000e+01    -71.500000     35.666670\n",
       "75%    40656.750000  2.026000e+02      0.000000    157.166670\n",
       "max    57458.000000  6.000000e+07     81.166670    354.473330"
      ]
     },
     "execution_count": 105,
     "metadata": {},
     "output_type": "execute_result"
    }
   ],
   "source": [
    "# some statistics about different variables from dataframe\n",
    "meteo.describe()"
   ]
  },
  {
   "cell_type": "code",
   "execution_count": 106,
   "id": "56ebfaac",
   "metadata": {},
   "outputs": [
    {
     "data": {
      "text/html": [
       "<div>\n",
       "<style scoped>\n",
       "    .dataframe tbody tr th:only-of-type {\n",
       "        vertical-align: middle;\n",
       "    }\n",
       "\n",
       "    .dataframe tbody tr th {\n",
       "        vertical-align: top;\n",
       "    }\n",
       "\n",
       "    .dataframe thead th {\n",
       "        text-align: right;\n",
       "    }\n",
       "</style>\n",
       "<table border=\"1\" class=\"dataframe\">\n",
       "  <thead>\n",
       "    <tr style=\"text-align: right;\">\n",
       "      <th></th>\n",
       "      <th>mass (g)</th>\n",
       "      <th>reclat</th>\n",
       "      <th>reclong</th>\n",
       "    </tr>\n",
       "  </thead>\n",
       "  <tbody>\n",
       "    <tr>\n",
       "      <th>count</th>\n",
       "      <td>45,585.00</td>\n",
       "      <td>38,401.00</td>\n",
       "      <td>38,401.00</td>\n",
       "    </tr>\n",
       "    <tr>\n",
       "      <th>mean</th>\n",
       "      <td>13,278.08</td>\n",
       "      <td>-39.12</td>\n",
       "      <td>61.07</td>\n",
       "    </tr>\n",
       "    <tr>\n",
       "      <th>std</th>\n",
       "      <td>574,988.88</td>\n",
       "      <td>46.38</td>\n",
       "      <td>80.65</td>\n",
       "    </tr>\n",
       "    <tr>\n",
       "      <th>min</th>\n",
       "      <td>0.00</td>\n",
       "      <td>-87.37</td>\n",
       "      <td>-165.43</td>\n",
       "    </tr>\n",
       "    <tr>\n",
       "      <th>25%</th>\n",
       "      <td>7.20</td>\n",
       "      <td>-76.71</td>\n",
       "      <td>0.00</td>\n",
       "    </tr>\n",
       "    <tr>\n",
       "      <th>50%</th>\n",
       "      <td>32.60</td>\n",
       "      <td>-71.50</td>\n",
       "      <td>35.67</td>\n",
       "    </tr>\n",
       "    <tr>\n",
       "      <th>75%</th>\n",
       "      <td>202.60</td>\n",
       "      <td>0.00</td>\n",
       "      <td>157.17</td>\n",
       "    </tr>\n",
       "    <tr>\n",
       "      <th>max</th>\n",
       "      <td>60,000,000.00</td>\n",
       "      <td>81.17</td>\n",
       "      <td>354.47</td>\n",
       "    </tr>\n",
       "  </tbody>\n",
       "</table>\n",
       "</div>"
      ],
      "text/plain": [
       "           mass (g)    reclat   reclong\n",
       "count     45,585.00 38,401.00 38,401.00\n",
       "mean      13,278.08    -39.12     61.07\n",
       "std      574,988.88     46.38     80.65\n",
       "min            0.00    -87.37   -165.43\n",
       "25%            7.20    -76.71      0.00\n",
       "50%           32.60    -71.50     35.67\n",
       "75%          202.60      0.00    157.17\n",
       "max   60,000,000.00     81.17    354.47"
      ]
     },
     "execution_count": 106,
     "metadata": {},
     "output_type": "execute_result"
    }
   ],
   "source": [
    "# remove the column of id statistics from results of .describe()\n",
    "stats = meteo.describe().drop('id', axis='columns')\n",
    "pd.options.display.float_format = '{:,.2f}'.format\n",
    "stats"
   ]
  },
  {
   "cell_type": "code",
   "execution_count": 107,
   "id": "a68c0ec0",
   "metadata": {},
   "outputs": [
    {
     "data": {
      "text/html": [
       "<div>\n",
       "<style scoped>\n",
       "    .dataframe tbody tr th:only-of-type {\n",
       "        vertical-align: middle;\n",
       "    }\n",
       "\n",
       "    .dataframe tbody tr th {\n",
       "        vertical-align: top;\n",
       "    }\n",
       "\n",
       "    .dataframe thead th {\n",
       "        text-align: right;\n",
       "    }\n",
       "</style>\n",
       "<table border=\"1\" class=\"dataframe\">\n",
       "  <thead>\n",
       "    <tr style=\"text-align: right;\">\n",
       "      <th></th>\n",
       "      <th>name</th>\n",
       "      <th>id</th>\n",
       "      <th>nametype</th>\n",
       "      <th>recclass</th>\n",
       "      <th>mass (g)</th>\n",
       "      <th>fall</th>\n",
       "      <th>year</th>\n",
       "      <th>reclat</th>\n",
       "      <th>reclong</th>\n",
       "      <th>GeoLocation</th>\n",
       "    </tr>\n",
       "  </thead>\n",
       "  <tbody>\n",
       "    <tr>\n",
       "      <th>count</th>\n",
       "      <td>45716</td>\n",
       "      <td>45,716.00</td>\n",
       "      <td>45716</td>\n",
       "      <td>45716</td>\n",
       "      <td>45,585.00</td>\n",
       "      <td>45716</td>\n",
       "      <td>45425</td>\n",
       "      <td>38,401.00</td>\n",
       "      <td>38,401.00</td>\n",
       "      <td>38401</td>\n",
       "    </tr>\n",
       "    <tr>\n",
       "      <th>unique</th>\n",
       "      <td>45716</td>\n",
       "      <td>NaN</td>\n",
       "      <td>2</td>\n",
       "      <td>466</td>\n",
       "      <td>NaN</td>\n",
       "      <td>2</td>\n",
       "      <td>266</td>\n",
       "      <td>NaN</td>\n",
       "      <td>NaN</td>\n",
       "      <td>17100</td>\n",
       "    </tr>\n",
       "    <tr>\n",
       "      <th>top</th>\n",
       "      <td>Aachen</td>\n",
       "      <td>NaN</td>\n",
       "      <td>Valid</td>\n",
       "      <td>L6</td>\n",
       "      <td>NaN</td>\n",
       "      <td>Found</td>\n",
       "      <td>01/01/2003 12:00:00 AM</td>\n",
       "      <td>NaN</td>\n",
       "      <td>NaN</td>\n",
       "      <td>(0.0, 0.0)</td>\n",
       "    </tr>\n",
       "    <tr>\n",
       "      <th>freq</th>\n",
       "      <td>1</td>\n",
       "      <td>NaN</td>\n",
       "      <td>45641</td>\n",
       "      <td>8285</td>\n",
       "      <td>NaN</td>\n",
       "      <td>44609</td>\n",
       "      <td>3323</td>\n",
       "      <td>NaN</td>\n",
       "      <td>NaN</td>\n",
       "      <td>6214</td>\n",
       "    </tr>\n",
       "    <tr>\n",
       "      <th>mean</th>\n",
       "      <td>NaN</td>\n",
       "      <td>26,889.74</td>\n",
       "      <td>NaN</td>\n",
       "      <td>NaN</td>\n",
       "      <td>13,278.08</td>\n",
       "      <td>NaN</td>\n",
       "      <td>NaN</td>\n",
       "      <td>-39.12</td>\n",
       "      <td>61.07</td>\n",
       "      <td>NaN</td>\n",
       "    </tr>\n",
       "    <tr>\n",
       "      <th>std</th>\n",
       "      <td>NaN</td>\n",
       "      <td>16,860.68</td>\n",
       "      <td>NaN</td>\n",
       "      <td>NaN</td>\n",
       "      <td>574,988.88</td>\n",
       "      <td>NaN</td>\n",
       "      <td>NaN</td>\n",
       "      <td>46.38</td>\n",
       "      <td>80.65</td>\n",
       "      <td>NaN</td>\n",
       "    </tr>\n",
       "    <tr>\n",
       "      <th>min</th>\n",
       "      <td>NaN</td>\n",
       "      <td>1.00</td>\n",
       "      <td>NaN</td>\n",
       "      <td>NaN</td>\n",
       "      <td>0.00</td>\n",
       "      <td>NaN</td>\n",
       "      <td>NaN</td>\n",
       "      <td>-87.37</td>\n",
       "      <td>-165.43</td>\n",
       "      <td>NaN</td>\n",
       "    </tr>\n",
       "    <tr>\n",
       "      <th>25%</th>\n",
       "      <td>NaN</td>\n",
       "      <td>12,688.75</td>\n",
       "      <td>NaN</td>\n",
       "      <td>NaN</td>\n",
       "      <td>7.20</td>\n",
       "      <td>NaN</td>\n",
       "      <td>NaN</td>\n",
       "      <td>-76.71</td>\n",
       "      <td>0.00</td>\n",
       "      <td>NaN</td>\n",
       "    </tr>\n",
       "    <tr>\n",
       "      <th>50%</th>\n",
       "      <td>NaN</td>\n",
       "      <td>24,261.50</td>\n",
       "      <td>NaN</td>\n",
       "      <td>NaN</td>\n",
       "      <td>32.60</td>\n",
       "      <td>NaN</td>\n",
       "      <td>NaN</td>\n",
       "      <td>-71.50</td>\n",
       "      <td>35.67</td>\n",
       "      <td>NaN</td>\n",
       "    </tr>\n",
       "    <tr>\n",
       "      <th>75%</th>\n",
       "      <td>NaN</td>\n",
       "      <td>40,656.75</td>\n",
       "      <td>NaN</td>\n",
       "      <td>NaN</td>\n",
       "      <td>202.60</td>\n",
       "      <td>NaN</td>\n",
       "      <td>NaN</td>\n",
       "      <td>0.00</td>\n",
       "      <td>157.17</td>\n",
       "      <td>NaN</td>\n",
       "    </tr>\n",
       "    <tr>\n",
       "      <th>max</th>\n",
       "      <td>NaN</td>\n",
       "      <td>57,458.00</td>\n",
       "      <td>NaN</td>\n",
       "      <td>NaN</td>\n",
       "      <td>60,000,000.00</td>\n",
       "      <td>NaN</td>\n",
       "      <td>NaN</td>\n",
       "      <td>81.17</td>\n",
       "      <td>354.47</td>\n",
       "      <td>NaN</td>\n",
       "    </tr>\n",
       "  </tbody>\n",
       "</table>\n",
       "</div>"
      ],
      "text/plain": [
       "          name        id nametype recclass      mass (g)   fall  \\\n",
       "count    45716 45,716.00    45716    45716     45,585.00  45716   \n",
       "unique   45716       NaN        2      466           NaN      2   \n",
       "top     Aachen       NaN    Valid       L6           NaN  Found   \n",
       "freq         1       NaN    45641     8285           NaN  44609   \n",
       "mean       NaN 26,889.74      NaN      NaN     13,278.08    NaN   \n",
       "std        NaN 16,860.68      NaN      NaN    574,988.88    NaN   \n",
       "min        NaN      1.00      NaN      NaN          0.00    NaN   \n",
       "25%        NaN 12,688.75      NaN      NaN          7.20    NaN   \n",
       "50%        NaN 24,261.50      NaN      NaN         32.60    NaN   \n",
       "75%        NaN 40,656.75      NaN      NaN        202.60    NaN   \n",
       "max        NaN 57,458.00      NaN      NaN 60,000,000.00    NaN   \n",
       "\n",
       "                          year    reclat   reclong GeoLocation  \n",
       "count                    45425 38,401.00 38,401.00       38401  \n",
       "unique                     266       NaN       NaN       17100  \n",
       "top     01/01/2003 12:00:00 AM       NaN       NaN  (0.0, 0.0)  \n",
       "freq                      3323       NaN       NaN        6214  \n",
       "mean                       NaN    -39.12     61.07         NaN  \n",
       "std                        NaN     46.38     80.65         NaN  \n",
       "min                        NaN    -87.37   -165.43         NaN  \n",
       "25%                        NaN    -76.71      0.00         NaN  \n",
       "50%                        NaN    -71.50     35.67         NaN  \n",
       "75%                        NaN      0.00    157.17         NaN  \n",
       "max                        NaN     81.17    354.47         NaN  "
      ]
     },
     "execution_count": 107,
     "metadata": {},
     "output_type": "execute_result"
    }
   ],
   "source": [
    "meteo.describe(include='all')  # include all kind of variables in the description"
   ]
  },
  {
   "cell_type": "code",
   "execution_count": 108,
   "id": "f637d587",
   "metadata": {},
   "outputs": [
    {
     "name": "stdout",
     "output_type": "stream",
     "text": [
      "<class 'pandas.core.frame.DataFrame'>\n",
      "RangeIndex: 45716 entries, 0 to 45715\n",
      "Data columns (total 10 columns):\n",
      " #   Column       Non-Null Count  Dtype  \n",
      "---  ------       --------------  -----  \n",
      " 0   name         45716 non-null  object \n",
      " 1   id           45716 non-null  int64  \n",
      " 2   nametype     45716 non-null  object \n",
      " 3   recclass     45716 non-null  object \n",
      " 4   mass (g)     45585 non-null  float64\n",
      " 5   fall         45716 non-null  object \n",
      " 6   year         45425 non-null  object \n",
      " 7   reclat       38401 non-null  float64\n",
      " 8   reclong      38401 non-null  float64\n",
      " 9   GeoLocation  38401 non-null  object \n",
      "dtypes: float64(3), int64(1), object(6)\n",
      "memory usage: 3.5+ MB\n"
     ]
    }
   ],
   "source": [
    "meteo.info()"
   ]
  },
  {
   "cell_type": "code",
   "execution_count": 109,
   "id": "dd380da9",
   "metadata": {},
   "outputs": [
    {
     "data": {
      "text/plain": [
       "name            object\n",
       "id               int64\n",
       "nametype        object\n",
       "recclass        object\n",
       "mass (g)       float64\n",
       "fall            object\n",
       "year            object\n",
       "reclat         float64\n",
       "reclong        float64\n",
       "GeoLocation     object\n",
       "dtype: object"
      ]
     },
     "execution_count": 109,
     "metadata": {},
     "output_type": "execute_result"
    }
   ],
   "source": [
    "meteo.dtypes"
   ]
  },
  {
   "cell_type": "code",
   "execution_count": 110,
   "id": "19b4a7c6",
   "metadata": {},
   "outputs": [
    {
     "data": {
      "text/plain": [
       "name            string\n",
       "id               Int64\n",
       "nametype        string\n",
       "recclass        string\n",
       "mass (g)       Float64\n",
       "fall            string\n",
       "year            string\n",
       "reclat         Float64\n",
       "reclong        Float64\n",
       "GeoLocation     string\n",
       "dtype: object"
      ]
     },
     "execution_count": 110,
     "metadata": {},
     "output_type": "execute_result"
    }
   ],
   "source": [
    "# convert automatically dtypes so the memory use is optimized\n",
    "meteo.convert_dtypes().dtypes"
   ]
  },
  {
   "cell_type": "code",
   "execution_count": 111,
   "id": "a9326360",
   "metadata": {},
   "outputs": [
    {
     "data": {
      "text/plain": [
       "name           45716\n",
       "id             45716\n",
       "nametype           2\n",
       "recclass         466\n",
       "mass (g)       12576\n",
       "fall               2\n",
       "year             266\n",
       "reclat         12738\n",
       "reclong        14640\n",
       "GeoLocation    17100\n",
       "dtype: int64"
      ]
     },
     "execution_count": 111,
     "metadata": {},
     "output_type": "execute_result"
    }
   ],
   "source": [
    "meteo.nunique() # count how many unique values has each column"
   ]
  },
  {
   "cell_type": "code",
   "execution_count": 112,
   "id": "717c92d3",
   "metadata": {},
   "outputs": [
    {
     "data": {
      "text/html": [
       "<div>\n",
       "<style scoped>\n",
       "    .dataframe tbody tr th:only-of-type {\n",
       "        vertical-align: middle;\n",
       "    }\n",
       "\n",
       "    .dataframe tbody tr th {\n",
       "        vertical-align: top;\n",
       "    }\n",
       "\n",
       "    .dataframe thead th {\n",
       "        text-align: right;\n",
       "    }\n",
       "</style>\n",
       "<table border=\"1\" class=\"dataframe\">\n",
       "  <thead>\n",
       "    <tr style=\"text-align: right;\">\n",
       "      <th></th>\n",
       "      <th>nametype</th>\n",
       "      <th>fall</th>\n",
       "    </tr>\n",
       "  </thead>\n",
       "  <tbody>\n",
       "    <tr>\n",
       "      <th>0</th>\n",
       "      <td>Valid</td>\n",
       "      <td>Fell</td>\n",
       "    </tr>\n",
       "    <tr>\n",
       "      <th>1</th>\n",
       "      <td>Valid</td>\n",
       "      <td>Fell</td>\n",
       "    </tr>\n",
       "    <tr>\n",
       "      <th>2</th>\n",
       "      <td>Valid</td>\n",
       "      <td>Fell</td>\n",
       "    </tr>\n",
       "    <tr>\n",
       "      <th>3</th>\n",
       "      <td>Valid</td>\n",
       "      <td>Fell</td>\n",
       "    </tr>\n",
       "    <tr>\n",
       "      <th>4</th>\n",
       "      <td>Valid</td>\n",
       "      <td>Fell</td>\n",
       "    </tr>\n",
       "  </tbody>\n",
       "</table>\n",
       "</div>"
      ],
      "text/plain": [
       "  nametype  fall\n",
       "0    Valid  Fell\n",
       "1    Valid  Fell\n",
       "2    Valid  Fell\n",
       "3    Valid  Fell\n",
       "4    Valid  Fell"
      ]
     },
     "execution_count": 112,
     "metadata": {},
     "output_type": "execute_result"
    }
   ],
   "source": [
    "meteo[['nametype', 'fall']].head()"
   ]
  },
  {
   "cell_type": "markdown",
   "id": "5758dbeb",
   "metadata": {},
   "source": [
    "Set values to category type"
   ]
  },
  {
   "cell_type": "code",
   "execution_count": 113,
   "id": "90f9e774",
   "metadata": {},
   "outputs": [],
   "source": [
    "# convert to category variable both 'fell' and 'nametype'\n",
    "meteo[['fall', 'nametype']] = meteo[['fall', 'nametype']].astype('category')"
   ]
  },
  {
   "cell_type": "code",
   "execution_count": 114,
   "id": "50094bd0",
   "metadata": {},
   "outputs": [
    {
     "data": {
      "text/plain": [
       "name             object\n",
       "id                int64\n",
       "nametype       category\n",
       "recclass         object\n",
       "mass (g)        float64\n",
       "fall           category\n",
       "year             object\n",
       "reclat          float64\n",
       "reclong         float64\n",
       "GeoLocation      object\n",
       "dtype: object"
      ]
     },
     "execution_count": 114,
     "metadata": {},
     "output_type": "execute_result"
    }
   ],
   "source": [
    "meteo.dtypes"
   ]
  },
  {
   "cell_type": "markdown",
   "id": "a0d2f8ed",
   "metadata": {},
   "source": [
    "Show what unique values there are in a series"
   ]
  },
  {
   "cell_type": "code",
   "execution_count": 142,
   "id": "95914e0c",
   "metadata": {},
   "outputs": [
    {
     "data": {
      "text/plain": [
       "['Fell', 'Found']\n",
       "Categories (2, object): ['Fell', 'Found']"
      ]
     },
     "execution_count": 142,
     "metadata": {},
     "output_type": "execute_result"
    }
   ],
   "source": [
    "meteo['fall'].unique()  # find out what the possible different values of column 'fall'"
   ]
  },
  {
   "cell_type": "code",
   "execution_count": 3,
   "id": "3e486464",
   "metadata": {},
   "outputs": [
    {
     "name": "stdout",
     "output_type": "stream",
     "text": [
      "97.58 % of the meteorite impacts where found.\n"
     ]
    }
   ],
   "source": [
    "# figure out the percentage of found meteorites\n",
    "impacts = meteo['fall'].shape[0]\n",
    "found = meteo[ meteo['fall'] == 'Found' ].shape[0]\n",
    "percent_found = found / impacts * 100\n",
    "print(f'{percent_found:.2f} % of the meteorite impacts where found.')"
   ]
  },
  {
   "cell_type": "markdown",
   "id": "8e8e1bb2",
   "metadata": {},
   "source": [
    "Dummie values"
   ]
  },
  {
   "cell_type": "code",
   "execution_count": 4,
   "id": "7f1b1606",
   "metadata": {},
   "outputs": [
    {
     "data": {
      "text/html": [
       "<div>\n",
       "<style scoped>\n",
       "    .dataframe tbody tr th:only-of-type {\n",
       "        vertical-align: middle;\n",
       "    }\n",
       "\n",
       "    .dataframe tbody tr th {\n",
       "        vertical-align: top;\n",
       "    }\n",
       "\n",
       "    .dataframe thead th {\n",
       "        text-align: right;\n",
       "    }\n",
       "</style>\n",
       "<table border=\"1\" class=\"dataframe\">\n",
       "  <thead>\n",
       "    <tr style=\"text-align: right;\">\n",
       "      <th></th>\n",
       "      <th>Fell</th>\n",
       "      <th>Found</th>\n",
       "    </tr>\n",
       "  </thead>\n",
       "  <tbody>\n",
       "    <tr>\n",
       "      <th>0</th>\n",
       "      <td>1</td>\n",
       "      <td>0</td>\n",
       "    </tr>\n",
       "    <tr>\n",
       "      <th>1</th>\n",
       "      <td>1</td>\n",
       "      <td>0</td>\n",
       "    </tr>\n",
       "    <tr>\n",
       "      <th>2</th>\n",
       "      <td>1</td>\n",
       "      <td>0</td>\n",
       "    </tr>\n",
       "    <tr>\n",
       "      <th>3</th>\n",
       "      <td>1</td>\n",
       "      <td>0</td>\n",
       "    </tr>\n",
       "    <tr>\n",
       "      <th>4</th>\n",
       "      <td>1</td>\n",
       "      <td>0</td>\n",
       "    </tr>\n",
       "    <tr>\n",
       "      <th>...</th>\n",
       "      <td>...</td>\n",
       "      <td>...</td>\n",
       "    </tr>\n",
       "    <tr>\n",
       "      <th>45711</th>\n",
       "      <td>0</td>\n",
       "      <td>1</td>\n",
       "    </tr>\n",
       "    <tr>\n",
       "      <th>45712</th>\n",
       "      <td>0</td>\n",
       "      <td>1</td>\n",
       "    </tr>\n",
       "    <tr>\n",
       "      <th>45713</th>\n",
       "      <td>0</td>\n",
       "      <td>1</td>\n",
       "    </tr>\n",
       "    <tr>\n",
       "      <th>45714</th>\n",
       "      <td>0</td>\n",
       "      <td>1</td>\n",
       "    </tr>\n",
       "    <tr>\n",
       "      <th>45715</th>\n",
       "      <td>0</td>\n",
       "      <td>1</td>\n",
       "    </tr>\n",
       "  </tbody>\n",
       "</table>\n",
       "<p>45716 rows × 2 columns</p>\n",
       "</div>"
      ],
      "text/plain": [
       "       Fell  Found\n",
       "0         1      0\n",
       "1         1      0\n",
       "2         1      0\n",
       "3         1      0\n",
       "4         1      0\n",
       "...     ...    ...\n",
       "45711     0      1\n",
       "45712     0      1\n",
       "45713     0      1\n",
       "45714     0      1\n",
       "45715     0      1\n",
       "\n",
       "[45716 rows x 2 columns]"
      ]
     },
     "execution_count": 4,
     "metadata": {},
     "output_type": "execute_result"
    }
   ],
   "source": [
    "# set the category var 'fall' to binary values:\n",
    "# 1 if value is fell\n",
    "# 0 if value is found\n",
    "pd.get_dummies(meteo['fall'])"
   ]
  },
  {
   "cell_type": "markdown",
   "id": "aeb33a20",
   "metadata": {},
   "source": [
    "Create a column with labels \"Fell\" and \"Found\" and set their values to the result of dummie values"
   ]
  },
  {
   "cell_type": "code",
   "execution_count": 5,
   "id": "9a381ce6",
   "metadata": {},
   "outputs": [
    {
     "data": {
      "text/html": [
       "<div>\n",
       "<style scoped>\n",
       "    .dataframe tbody tr th:only-of-type {\n",
       "        vertical-align: middle;\n",
       "    }\n",
       "\n",
       "    .dataframe tbody tr th {\n",
       "        vertical-align: top;\n",
       "    }\n",
       "\n",
       "    .dataframe thead th {\n",
       "        text-align: right;\n",
       "    }\n",
       "</style>\n",
       "<table border=\"1\" class=\"dataframe\">\n",
       "  <thead>\n",
       "    <tr style=\"text-align: right;\">\n",
       "      <th></th>\n",
       "      <th>name</th>\n",
       "      <th>id</th>\n",
       "      <th>nametype</th>\n",
       "      <th>recclass</th>\n",
       "      <th>mass (g)</th>\n",
       "      <th>fall</th>\n",
       "      <th>year</th>\n",
       "      <th>reclat</th>\n",
       "      <th>reclong</th>\n",
       "      <th>GeoLocation</th>\n",
       "      <th>Fell</th>\n",
       "      <th>Found</th>\n",
       "    </tr>\n",
       "  </thead>\n",
       "  <tbody>\n",
       "    <tr>\n",
       "      <th>0</th>\n",
       "      <td>Aachen</td>\n",
       "      <td>1</td>\n",
       "      <td>Valid</td>\n",
       "      <td>L5</td>\n",
       "      <td>21.0</td>\n",
       "      <td>Fell</td>\n",
       "      <td>01/01/1880 12:00:00 AM</td>\n",
       "      <td>50.77500</td>\n",
       "      <td>6.08333</td>\n",
       "      <td>(50.775, 6.08333)</td>\n",
       "      <td>1</td>\n",
       "      <td>0</td>\n",
       "    </tr>\n",
       "    <tr>\n",
       "      <th>1</th>\n",
       "      <td>Aarhus</td>\n",
       "      <td>2</td>\n",
       "      <td>Valid</td>\n",
       "      <td>H6</td>\n",
       "      <td>720.0</td>\n",
       "      <td>Fell</td>\n",
       "      <td>01/01/1951 12:00:00 AM</td>\n",
       "      <td>56.18333</td>\n",
       "      <td>10.23333</td>\n",
       "      <td>(56.18333, 10.23333)</td>\n",
       "      <td>1</td>\n",
       "      <td>0</td>\n",
       "    </tr>\n",
       "    <tr>\n",
       "      <th>2</th>\n",
       "      <td>Abee</td>\n",
       "      <td>6</td>\n",
       "      <td>Valid</td>\n",
       "      <td>EH4</td>\n",
       "      <td>107000.0</td>\n",
       "      <td>Fell</td>\n",
       "      <td>01/01/1952 12:00:00 AM</td>\n",
       "      <td>54.21667</td>\n",
       "      <td>-113.00000</td>\n",
       "      <td>(54.21667, -113.0)</td>\n",
       "      <td>1</td>\n",
       "      <td>0</td>\n",
       "    </tr>\n",
       "    <tr>\n",
       "      <th>3</th>\n",
       "      <td>Acapulco</td>\n",
       "      <td>10</td>\n",
       "      <td>Valid</td>\n",
       "      <td>Acapulcoite</td>\n",
       "      <td>1914.0</td>\n",
       "      <td>Fell</td>\n",
       "      <td>01/01/1976 12:00:00 AM</td>\n",
       "      <td>16.88333</td>\n",
       "      <td>-99.90000</td>\n",
       "      <td>(16.88333, -99.9)</td>\n",
       "      <td>1</td>\n",
       "      <td>0</td>\n",
       "    </tr>\n",
       "    <tr>\n",
       "      <th>4</th>\n",
       "      <td>Achiras</td>\n",
       "      <td>370</td>\n",
       "      <td>Valid</td>\n",
       "      <td>L6</td>\n",
       "      <td>780.0</td>\n",
       "      <td>Fell</td>\n",
       "      <td>01/01/1902 12:00:00 AM</td>\n",
       "      <td>-33.16667</td>\n",
       "      <td>-64.95000</td>\n",
       "      <td>(-33.16667, -64.95)</td>\n",
       "      <td>1</td>\n",
       "      <td>0</td>\n",
       "    </tr>\n",
       "  </tbody>\n",
       "</table>\n",
       "</div>"
      ],
      "text/plain": [
       "       name   id nametype     recclass  mass (g)  fall  \\\n",
       "0    Aachen    1    Valid           L5      21.0  Fell   \n",
       "1    Aarhus    2    Valid           H6     720.0  Fell   \n",
       "2      Abee    6    Valid          EH4  107000.0  Fell   \n",
       "3  Acapulco   10    Valid  Acapulcoite    1914.0  Fell   \n",
       "4   Achiras  370    Valid           L6     780.0  Fell   \n",
       "\n",
       "                     year    reclat    reclong           GeoLocation  Fell  \\\n",
       "0  01/01/1880 12:00:00 AM  50.77500    6.08333     (50.775, 6.08333)     1   \n",
       "1  01/01/1951 12:00:00 AM  56.18333   10.23333  (56.18333, 10.23333)     1   \n",
       "2  01/01/1952 12:00:00 AM  54.21667 -113.00000    (54.21667, -113.0)     1   \n",
       "3  01/01/1976 12:00:00 AM  16.88333  -99.90000     (16.88333, -99.9)     1   \n",
       "4  01/01/1902 12:00:00 AM -33.16667  -64.95000   (-33.16667, -64.95)     1   \n",
       "\n",
       "   Found  \n",
       "0      0  \n",
       "1      0  \n",
       "2      0  \n",
       "3      0  \n",
       "4      0  "
      ]
     },
     "execution_count": 5,
     "metadata": {},
     "output_type": "execute_result"
    }
   ],
   "source": [
    "meteo[['Fell', 'Found']] = pd.get_dummies(meteo['fall'])\n",
    "meteo.head()"
   ]
  },
  {
   "cell_type": "markdown",
   "id": "28d3bc45",
   "metadata": {},
   "source": [
    "Set dtypes to something more addecuate to every column"
   ]
  },
  {
   "cell_type": "code",
   "execution_count": 164,
   "id": "e395eb2c",
   "metadata": {},
   "outputs": [
    {
     "data": {
      "text/plain": [
       "name             object\n",
       "id                int64\n",
       "nametype       category\n",
       "recclass         object\n",
       "mass, g         float64\n",
       "fall           category\n",
       "year             object\n",
       "reclat          float64\n",
       "reclong         float64\n",
       "GeoLocation      object\n",
       "Fell              uint8\n",
       "Found             uint8\n",
       "dtype: object"
      ]
     },
     "execution_count": 164,
     "metadata": {},
     "output_type": "execute_result"
    }
   ],
   "source": [
    "meteo.dtypes"
   ]
  },
  {
   "cell_type": "markdown",
   "id": "1715e541",
   "metadata": {},
   "source": [
    "Rename a column label"
   ]
  },
  {
   "cell_type": "code",
   "execution_count": 6,
   "id": "77937a77",
   "metadata": {},
   "outputs": [
    {
     "data": {
      "text/plain": [
       "Index(['name', 'id', 'nametype', 'recclass', 'mass, g', 'fall', 'year',\n",
       "       'reclat', 'reclong', 'GeoLocation', 'Fell', 'Found'],\n",
       "      dtype='object')"
      ]
     },
     "execution_count": 6,
     "metadata": {},
     "output_type": "execute_result"
    }
   ],
   "source": [
    "# rename a column using DataFrame.rename(). Use a dictionary: 'old_name':'new_name'\n",
    "meteo.rename(columns={'mass (g)': 'mass, g'}, inplace=True)\n",
    "meteo.columns"
   ]
  },
  {
   "cell_type": "markdown",
   "id": "b103c405",
   "metadata": {},
   "source": [
    "Working with date values inside DataFrame: `pd.to_datetime()`"
   ]
  },
  {
   "cell_type": "code",
   "execution_count": 7,
   "id": "935b5240",
   "metadata": {},
   "outputs": [
    {
     "data": {
      "text/plain": [
       "0    01/01/1880 12:00:00 AM\n",
       "1    01/01/1951 12:00:00 AM\n",
       "2    01/01/1952 12:00:00 AM\n",
       "3    01/01/1976 12:00:00 AM\n",
       "4    01/01/1902 12:00:00 AM\n",
       "Name: year, dtype: object"
      ]
     },
     "execution_count": 7,
     "metadata": {},
     "output_type": "execute_result"
    }
   ],
   "source": [
    "dates = meteo['year']\n",
    "dates.head()  # dtype: object means is 'string'"
   ]
  },
  {
   "cell_type": "code",
   "execution_count": 9,
   "id": "1a5bfd3f",
   "metadata": {},
   "outputs": [
    {
     "data": {
      "text/plain": [
       "(312,)"
      ]
     },
     "execution_count": 9,
     "metadata": {},
     "output_type": "execute_result"
    }
   ],
   "source": [
    "dates = pd.to_datetime(dates, errors='coerce', format='%m/%d/%Y %H:%M:%S %p')\n",
    "# figure out how many dates are out of range of pandas\n",
    "# if date is out of maximum range handled by pandas\n",
    "# value is set to nan\n",
    "dates[dates.isnull()].shape"
   ]
  },
  {
   "cell_type": "code",
   "execution_count": 200,
   "id": "41e7d09c",
   "metadata": {},
   "outputs": [
    {
     "data": {
      "text/plain": [
       "1880"
      ]
     },
     "execution_count": 200,
     "metadata": {},
     "output_type": "execute_result"
    }
   ],
   "source": [
    "dates[0].year # index attribute for timestamp index"
   ]
  },
  {
   "cell_type": "code",
   "execution_count": 11,
   "id": "08cd97a9",
   "metadata": {},
   "outputs": [
    {
     "data": {
      "text/plain": [
       "0       1880\n",
       "1       1951\n",
       "2       1952\n",
       "3       1976\n",
       "4       1902\n",
       "        ... \n",
       "45711   1990\n",
       "45712   1999\n",
       "45713   1939\n",
       "45714   2003\n",
       "45715   1976\n",
       "Name: year, Length: 45716, dtype: float64"
      ]
     },
     "execution_count": 11,
     "metadata": {},
     "output_type": "execute_result"
    }
   ],
   "source": [
    "dates.dt.year  # dt.year attribute for Series"
   ]
  },
  {
   "cell_type": "code",
   "execution_count": 10,
   "id": "e3cb02c3",
   "metadata": {},
   "outputs": [],
   "source": [
    "pd.options.display.float_format = '{:.0f}'.format"
   ]
  },
  {
   "cell_type": "code",
   "execution_count": 12,
   "id": "b8630564",
   "metadata": {},
   "outputs": [
    {
     "data": {
      "text/plain": [
       "0   1880-01-01 12:00:00\n",
       "1   1951-01-01 12:00:00\n",
       "2   1952-01-01 12:00:00\n",
       "3   1976-01-01 12:00:00\n",
       "4   1902-01-01 12:00:00\n",
       "Name: year, dtype: datetime64[ns]"
      ]
     },
     "execution_count": 12,
     "metadata": {},
     "output_type": "execute_result"
    }
   ],
   "source": [
    "dates.head()"
   ]
  },
  {
   "cell_type": "code",
   "execution_count": 13,
   "id": "c19b2638",
   "metadata": {},
   "outputs": [
    {
     "data": {
      "text/plain": [
       "0        1880-01-01\n",
       "1        1951-01-01\n",
       "2        1952-01-01\n",
       "3        1976-01-01\n",
       "4        1902-01-01\n",
       "            ...    \n",
       "45711    1990-01-01\n",
       "45712    1999-01-01\n",
       "45713    1939-01-01\n",
       "45714    2003-01-01\n",
       "45715    1976-01-01\n",
       "Name: year, Length: 45716, dtype: object"
      ]
     },
     "execution_count": 13,
     "metadata": {},
     "output_type": "execute_result"
    }
   ],
   "source": [
    "dates.dt.date"
   ]
  },
  {
   "cell_type": "markdown",
   "id": "69074436",
   "metadata": {},
   "source": [
    "meteo = meteo.rename(columns={'year': 'fall date'})"
   ]
  },
  {
   "cell_type": "code",
   "execution_count": 31,
   "id": "6a24e181",
   "metadata": {},
   "outputs": [],
   "source": [
    "meteo['fall date'] = pd.to_datetime(meteo['fall date'])"
   ]
  },
  {
   "cell_type": "markdown",
   "id": "584614c4",
   "metadata": {},
   "source": [
    "Recent meteorites falls in the 21st century"
   ]
  },
  {
   "cell_type": "code",
   "execution_count": 56,
   "id": "49baf0d5",
   "metadata": {},
   "outputs": [
    {
     "name": "stdout",
     "output_type": "stream",
     "text": [
      "Percentage of recent meteorites: 43.14 %\n"
     ]
    }
   ],
   "source": [
    "year = meteo['fall date']\n",
    "mask1 = dt.datetime(2000,1,1) <= year\n",
    "mask2 = dt.datetime(2022,12,1) >= year\n",
    "recent_meteorites = meteo[mask1 & mask2].sort_values(by='fall date')\n",
    "print(f'Percentage of recent meteorites: {recent_meteorites.shape[0]/meteo.shape[0]*100:.2f} %')"
   ]
  },
  {
   "cell_type": "markdown",
   "id": "bca797c3",
   "metadata": {},
   "source": [
    "Sorting values in dataframe"
   ]
  },
  {
   "cell_type": "code",
   "execution_count": 61,
   "id": "3d899fc2",
   "metadata": {},
   "outputs": [
    {
     "data": {
      "text/html": [
       "<div>\n",
       "<style scoped>\n",
       "    .dataframe tbody tr th:only-of-type {\n",
       "        vertical-align: middle;\n",
       "    }\n",
       "\n",
       "    .dataframe tbody tr th {\n",
       "        vertical-align: top;\n",
       "    }\n",
       "\n",
       "    .dataframe thead th {\n",
       "        text-align: right;\n",
       "    }\n",
       "</style>\n",
       "<table border=\"1\" class=\"dataframe\">\n",
       "  <thead>\n",
       "    <tr style=\"text-align: right;\">\n",
       "      <th></th>\n",
       "      <th>name</th>\n",
       "      <th>id</th>\n",
       "      <th>nametype</th>\n",
       "      <th>recclass</th>\n",
       "      <th>mass, g</th>\n",
       "      <th>fall</th>\n",
       "      <th>fall date</th>\n",
       "      <th>reclat</th>\n",
       "      <th>reclong</th>\n",
       "      <th>GeoLocation</th>\n",
       "      <th>Fell</th>\n",
       "      <th>Found</th>\n",
       "    </tr>\n",
       "  </thead>\n",
       "  <tbody>\n",
       "    <tr>\n",
       "      <th>3321</th>\n",
       "      <td>Allan Hills A81232</td>\n",
       "      <td>2191</td>\n",
       "      <td>Valid</td>\n",
       "      <td>H5</td>\n",
       "      <td>5</td>\n",
       "      <td>Found</td>\n",
       "      <td>1981-01-01</td>\n",
       "      <td>-77</td>\n",
       "      <td>159</td>\n",
       "      <td>(-76.68722, 159.35639)</td>\n",
       "      <td>0</td>\n",
       "      <td>1</td>\n",
       "    </tr>\n",
       "    <tr>\n",
       "      <th>25372</th>\n",
       "      <td>Miller Range 090295</td>\n",
       "      <td>54963</td>\n",
       "      <td>Valid</td>\n",
       "      <td>L5</td>\n",
       "      <td>6</td>\n",
       "      <td>Found</td>\n",
       "      <td>2009-01-01</td>\n",
       "      <td>0</td>\n",
       "      <td>0</td>\n",
       "      <td>(0.0, 0.0)</td>\n",
       "      <td>0</td>\n",
       "      <td>1</td>\n",
       "    </tr>\n",
       "    <tr>\n",
       "      <th>27574</th>\n",
       "      <td>Northwest Africa 2604</td>\n",
       "      <td>33125</td>\n",
       "      <td>Valid</td>\n",
       "      <td>H6</td>\n",
       "      <td>7</td>\n",
       "      <td>Found</td>\n",
       "      <td>2004-01-01</td>\n",
       "      <td>0</td>\n",
       "      <td>0</td>\n",
       "      <td>(0.0, 0.0)</td>\n",
       "      <td>0</td>\n",
       "      <td>1</td>\n",
       "    </tr>\n",
       "    <tr>\n",
       "      <th>31933</th>\n",
       "      <td>Pecora Escarpment 91447</td>\n",
       "      <td>18738</td>\n",
       "      <td>Valid</td>\n",
       "      <td>H5</td>\n",
       "      <td>8</td>\n",
       "      <td>Found</td>\n",
       "      <td>1991-01-01</td>\n",
       "      <td>-86</td>\n",
       "      <td>-68</td>\n",
       "      <td>(-85.66111, -68.35643)</td>\n",
       "      <td>0</td>\n",
       "      <td>1</td>\n",
       "    </tr>\n",
       "    <tr>\n",
       "      <th>38783</th>\n",
       "      <td>Yamato 74357</td>\n",
       "      <td>24735</td>\n",
       "      <td>Valid</td>\n",
       "      <td>Lodranite-an</td>\n",
       "      <td>14</td>\n",
       "      <td>Found</td>\n",
       "      <td>1974-01-01</td>\n",
       "      <td>-72</td>\n",
       "      <td>36</td>\n",
       "      <td>(-71.74722, 35.80556)</td>\n",
       "      <td>0</td>\n",
       "      <td>1</td>\n",
       "    </tr>\n",
       "    <tr>\n",
       "      <th>39005</th>\n",
       "      <td>Yamato 74577</td>\n",
       "      <td>24955</td>\n",
       "      <td>Valid</td>\n",
       "      <td>H6</td>\n",
       "      <td>14</td>\n",
       "      <td>Found</td>\n",
       "      <td>1974-01-01</td>\n",
       "      <td>0</td>\n",
       "      <td>36</td>\n",
       "      <td>(0.0, 35.66667)</td>\n",
       "      <td>0</td>\n",
       "      <td>1</td>\n",
       "    </tr>\n",
       "    <tr>\n",
       "      <th>31963</th>\n",
       "      <td>Pecora Escarpment 91477</td>\n",
       "      <td>18768</td>\n",
       "      <td>Valid</td>\n",
       "      <td>EH3</td>\n",
       "      <td>16</td>\n",
       "      <td>Found</td>\n",
       "      <td>1991-01-01</td>\n",
       "      <td>-86</td>\n",
       "      <td>-69</td>\n",
       "      <td>(-85.65128, -68.61946)</td>\n",
       "      <td>0</td>\n",
       "      <td>1</td>\n",
       "    </tr>\n",
       "    <tr>\n",
       "      <th>29225</th>\n",
       "      <td>Northwest Africa 5219</td>\n",
       "      <td>47337</td>\n",
       "      <td>Valid</td>\n",
       "      <td>Martian (shergottite)</td>\n",
       "      <td>60</td>\n",
       "      <td>Found</td>\n",
       "      <td>2007-01-01</td>\n",
       "      <td>0</td>\n",
       "      <td>0</td>\n",
       "      <td>(0.0, 0.0)</td>\n",
       "      <td>0</td>\n",
       "      <td>1</td>\n",
       "    </tr>\n",
       "    <tr>\n",
       "      <th>36722</th>\n",
       "      <td>Sahara 99995</td>\n",
       "      <td>23077</td>\n",
       "      <td>Valid</td>\n",
       "      <td>H6</td>\n",
       "      <td>61</td>\n",
       "      <td>Found</td>\n",
       "      <td>1999-01-01</td>\n",
       "      <td>NaN</td>\n",
       "      <td>NaN</td>\n",
       "      <td>NaN</td>\n",
       "      <td>0</td>\n",
       "      <td>1</td>\n",
       "    </tr>\n",
       "    <tr>\n",
       "      <th>6036</th>\n",
       "      <td>Dar al Gani 263</td>\n",
       "      <td>5811</td>\n",
       "      <td>Valid</td>\n",
       "      <td>H4</td>\n",
       "      <td>151</td>\n",
       "      <td>Found</td>\n",
       "      <td>1997-01-01</td>\n",
       "      <td>27</td>\n",
       "      <td>16</td>\n",
       "      <td>(27.1885, 16.31483)</td>\n",
       "      <td>0</td>\n",
       "      <td>1</td>\n",
       "    </tr>\n",
       "    <tr>\n",
       "      <th>27487</th>\n",
       "      <td>Northwest Africa 2454</td>\n",
       "      <td>31033</td>\n",
       "      <td>Valid</td>\n",
       "      <td>H5/6</td>\n",
       "      <td>222</td>\n",
       "      <td>Found</td>\n",
       "      <td>2004-01-01</td>\n",
       "      <td>NaN</td>\n",
       "      <td>NaN</td>\n",
       "      <td>NaN</td>\n",
       "      <td>0</td>\n",
       "      <td>1</td>\n",
       "    </tr>\n",
       "    <tr>\n",
       "      <th>30829</th>\n",
       "      <td>Northwest Africa 857</td>\n",
       "      <td>17882</td>\n",
       "      <td>Valid</td>\n",
       "      <td>H6</td>\n",
       "      <td>345</td>\n",
       "      <td>Found</td>\n",
       "      <td>2000-01-01</td>\n",
       "      <td>NaN</td>\n",
       "      <td>NaN</td>\n",
       "      <td>NaN</td>\n",
       "      <td>0</td>\n",
       "      <td>1</td>\n",
       "    </tr>\n",
       "    <tr>\n",
       "      <th>7492</th>\n",
       "      <td>Dhofar 1687</td>\n",
       "      <td>56193</td>\n",
       "      <td>Valid</td>\n",
       "      <td>L6</td>\n",
       "      <td>395</td>\n",
       "      <td>Found</td>\n",
       "      <td>2011-01-01</td>\n",
       "      <td>18</td>\n",
       "      <td>54</td>\n",
       "      <td>(18.0901, 54.08788)</td>\n",
       "      <td>0</td>\n",
       "      <td>1</td>\n",
       "    </tr>\n",
       "    <tr>\n",
       "      <th>25181</th>\n",
       "      <td>Miller Range 090102</td>\n",
       "      <td>55877</td>\n",
       "      <td>Valid</td>\n",
       "      <td>L6</td>\n",
       "      <td>511</td>\n",
       "      <td>Found</td>\n",
       "      <td>2009-01-01</td>\n",
       "      <td>0</td>\n",
       "      <td>0</td>\n",
       "      <td>(0.0, 0.0)</td>\n",
       "      <td>0</td>\n",
       "      <td>1</td>\n",
       "    </tr>\n",
       "    <tr>\n",
       "      <th>6529</th>\n",
       "      <td>Dar al Gani 758</td>\n",
       "      <td>6305</td>\n",
       "      <td>Valid</td>\n",
       "      <td>L6</td>\n",
       "      <td>2223</td>\n",
       "      <td>Found</td>\n",
       "      <td>1999-01-01</td>\n",
       "      <td>28</td>\n",
       "      <td>16</td>\n",
       "      <td>(27.76767, 15.94067)</td>\n",
       "      <td>0</td>\n",
       "      <td>1</td>\n",
       "    </tr>\n",
       "  </tbody>\n",
       "</table>\n",
       "</div>"
      ],
      "text/plain": [
       "                          name     id nametype               recclass  \\\n",
       "3321        Allan Hills A81232   2191    Valid                     H5   \n",
       "25372      Miller Range 090295  54963    Valid                     L5   \n",
       "27574    Northwest Africa 2604  33125    Valid                     H6   \n",
       "31933  Pecora Escarpment 91447  18738    Valid                     H5   \n",
       "38783             Yamato 74357  24735    Valid           Lodranite-an   \n",
       "39005             Yamato 74577  24955    Valid                     H6   \n",
       "31963  Pecora Escarpment 91477  18768    Valid                    EH3   \n",
       "29225    Northwest Africa 5219  47337    Valid  Martian (shergottite)   \n",
       "36722             Sahara 99995  23077    Valid                     H6   \n",
       "6036           Dar al Gani 263   5811    Valid                     H4   \n",
       "27487    Northwest Africa 2454  31033    Valid                   H5/6   \n",
       "30829     Northwest Africa 857  17882    Valid                     H6   \n",
       "7492               Dhofar 1687  56193    Valid                     L6   \n",
       "25181      Miller Range 090102  55877    Valid                     L6   \n",
       "6529           Dar al Gani 758   6305    Valid                     L6   \n",
       "\n",
       "       mass, g   fall  fall date  reclat  reclong             GeoLocation  \\\n",
       "3321         5  Found 1981-01-01     -77      159  (-76.68722, 159.35639)   \n",
       "25372        6  Found 2009-01-01       0        0              (0.0, 0.0)   \n",
       "27574        7  Found 2004-01-01       0        0              (0.0, 0.0)   \n",
       "31933        8  Found 1991-01-01     -86      -68  (-85.66111, -68.35643)   \n",
       "38783       14  Found 1974-01-01     -72       36   (-71.74722, 35.80556)   \n",
       "39005       14  Found 1974-01-01       0       36         (0.0, 35.66667)   \n",
       "31963       16  Found 1991-01-01     -86      -69  (-85.65128, -68.61946)   \n",
       "29225       60  Found 2007-01-01       0        0              (0.0, 0.0)   \n",
       "36722       61  Found 1999-01-01     NaN      NaN                     NaN   \n",
       "6036       151  Found 1997-01-01      27       16     (27.1885, 16.31483)   \n",
       "27487      222  Found 2004-01-01     NaN      NaN                     NaN   \n",
       "30829      345  Found 2000-01-01     NaN      NaN                     NaN   \n",
       "7492       395  Found 2011-01-01      18       54     (18.0901, 54.08788)   \n",
       "25181      511  Found 2009-01-01       0        0              (0.0, 0.0)   \n",
       "6529      2223  Found 1999-01-01      28       16    (27.76767, 15.94067)   \n",
       "\n",
       "       Fell  Found  \n",
       "3321      0      1  \n",
       "25372     0      1  \n",
       "27574     0      1  \n",
       "31933     0      1  \n",
       "38783     0      1  \n",
       "39005     0      1  \n",
       "31963     0      1  \n",
       "29225     0      1  \n",
       "36722     0      1  \n",
       "6036      0      1  \n",
       "27487     0      1  \n",
       "30829     0      1  \n",
       "7492      0      1  \n",
       "25181     0      1  \n",
       "6529      0      1  "
      ]
     },
     "execution_count": 61,
     "metadata": {},
     "output_type": "execute_result"
    }
   ],
   "source": [
    "meteo.sample(15).sort_values(by='mass, g')"
   ]
  },
  {
   "cell_type": "code",
   "execution_count": 62,
   "id": "3466db3f",
   "metadata": {},
   "outputs": [],
   "source": [
    "bikes = pd.read_csv('london_shared_bikes.csv')"
   ]
  },
  {
   "cell_type": "markdown",
   "id": "717ab97c",
   "metadata": {},
   "source": [
    "[London bike sharing](url 'https://www.kaggle.com/datasets/hmavrodiev/london-bike-sharing-dataset?resource=download&select=london_merged.csv')  \n",
    "\"timestamp\" - timestamp field for grouping the data  \n",
    "\"cnt\" - the count of a new bike shares  \n",
    "\"t1\" - real temperature in C  \n",
    "\"t2\" - temperature in C \"feels like\"  \n",
    "\"hum\" - humidity in percentage  \n",
    "\"windspeed\" - wind speed in km/h  \n",
    "\"weathercode\" - category of the weather  \n",
    "\"isholiday\" - boolean field - 1 holiday / 0 non holiday  \n",
    "\"isweekend\" - boolean field - 1 if the day is weekend  \n",
    "\"season\" - category field meteorological seasons: 0-spring ; 1-summer; 2-fall; 3-winter.  \n",
    "\n",
    "\"weather_code\" category description:  \n",
    "1 = Clear ; mostly clear but have some values with haze/fog/patches of fog/ fog in vicinity  \n",
    "2 = scattered clouds / few clouds  \n",
    "3 = Broken clouds  \n",
    "4 = Cloudy  \n",
    "7 = Rain/ light Rain shower/ Light rain  \n",
    "10 = rain with thunderstorm  \n",
    "26 = snowfall  \n",
    "94 = Freezing Fog"
   ]
  },
  {
   "cell_type": "code",
   "execution_count": 69,
   "id": "b9a7a93b",
   "metadata": {},
   "outputs": [],
   "source": [
    "bikes_bk = bikes.copy(deep=True)"
   ]
  },
  {
   "cell_type": "code",
   "execution_count": 70,
   "id": "5588ee42",
   "metadata": {},
   "outputs": [
    {
     "data": {
      "text/plain": [
       "timestamp        object\n",
       "cnt               int64\n",
       "t1              float64\n",
       "t2              float64\n",
       "hum             float64\n",
       "wind_speed      float64\n",
       "weather_code    float64\n",
       "is_holiday      float64\n",
       "is_weekend      float64\n",
       "season          float64\n",
       "dtype: object"
      ]
     },
     "execution_count": 70,
     "metadata": {},
     "output_type": "execute_result"
    }
   ],
   "source": [
    "bikes.dtypes"
   ]
  },
  {
   "cell_type": "code",
   "execution_count": 68,
   "id": "a31442ae",
   "metadata": {},
   "outputs": [
    {
     "data": {
      "text/plain": [
       "timestamp        string\n",
       "cnt               Int64\n",
       "t1              Float64\n",
       "t2              Float64\n",
       "hum             Float64\n",
       "wind_speed      Float64\n",
       "weather_code      Int64\n",
       "is_holiday        Int64\n",
       "is_weekend        Int64\n",
       "season            Int64\n",
       "dtype: object"
      ]
     },
     "execution_count": 68,
     "metadata": {},
     "output_type": "execute_result"
    }
   ],
   "source": [
    "bikes.convert_dtypes().dtypes"
   ]
  },
  {
   "cell_type": "code",
   "execution_count": 75,
   "id": "255434cd",
   "metadata": {},
   "outputs": [],
   "source": [
    "bikes[['is_holiday','is_weekend']] = bikes[['is_holiday','is_weekend']].astype(bool)"
   ]
  },
  {
   "cell_type": "code",
   "execution_count": 82,
   "id": "dfa4073d",
   "metadata": {},
   "outputs": [],
   "source": [
    "bikes['weather_code'] = bikes['weather_code'].astype(int) "
   ]
  },
  {
   "cell_type": "code",
   "execution_count": 102,
   "id": "12a9f2fa",
   "metadata": {},
   "outputs": [
    {
     "data": {
      "text/plain": [
       "2155"
      ]
     },
     "execution_count": 102,
     "metadata": {},
     "output_type": "execute_result"
    }
   ],
   "source": [
    "# 7 = Rain/ light Rain shower/ Light rain\n",
    "# 10 = rain with thunderstorm\n",
    "# 26 = snowfall\n",
    "# 94 = Freezing Fog\n",
    "mask = [i in [7,10] for i in bikes['weather_code'] ]\n",
    "rainy_day_rents = bikes[mask].shape[0]\n",
    "rainy_day_rents"
   ]
  },
  {
   "cell_type": "markdown",
   "id": "6a477116",
   "metadata": {},
   "source": [
    "Some statistics about wind speed:"
   ]
  },
  {
   "cell_type": "code",
   "execution_count": 110,
   "id": "1e50c01b",
   "metadata": {},
   "outputs": [
    {
     "data": {
      "text/plain": [
       "count   17414\n",
       "mean       16\n",
       "std         8\n",
       "min         0\n",
       "25%        10\n",
       "50%        15\n",
       "75%        20\n",
       "max        56\n",
       "Name: wind_speed, dtype: float64"
      ]
     },
     "execution_count": 110,
     "metadata": {},
     "output_type": "execute_result"
    }
   ],
   "source": [
    "bikes['wind_speed'].describe()"
   ]
  },
  {
   "cell_type": "code",
   "execution_count": 109,
   "id": "fb1f5de8",
   "metadata": {},
   "outputs": [
    {
     "name": "stdout",
     "output_type": "stream",
     "text": [
      "There were 4876 bike rents on windy days (wind speed over 20 km/h).\n",
      "That's 28.00 %\n"
     ]
    }
   ],
   "source": [
    "windy_day_rents = bikes[ bikes['wind_speed'] >= 20 ].shape[0] \n",
    "print(f'There were {windy_day_rents} bike rents on windy days (wind speed over 20 km/h).')\n",
    "print(f'That\\'s {windy_day_rents / bikes.notnull().shape[0] * 100:.2f} %')"
   ]
  },
  {
   "cell_type": "markdown",
   "id": "31cb9870",
   "metadata": {},
   "source": [
    "Convert km/h to m/s using a function and apply it to dataframe"
   ]
  },
  {
   "cell_type": "code",
   "execution_count": 113,
   "id": "bf07dca9",
   "metadata": {},
   "outputs": [
    {
     "data": {
      "text/html": [
       "<div>\n",
       "<style scoped>\n",
       "    .dataframe tbody tr th:only-of-type {\n",
       "        vertical-align: middle;\n",
       "    }\n",
       "\n",
       "    .dataframe tbody tr th {\n",
       "        vertical-align: top;\n",
       "    }\n",
       "\n",
       "    .dataframe thead th {\n",
       "        text-align: right;\n",
       "    }\n",
       "</style>\n",
       "<table border=\"1\" class=\"dataframe\">\n",
       "  <thead>\n",
       "    <tr style=\"text-align: right;\">\n",
       "      <th></th>\n",
       "      <th>timestamp</th>\n",
       "      <th>cnt</th>\n",
       "      <th>t1</th>\n",
       "      <th>t2</th>\n",
       "      <th>hum</th>\n",
       "      <th>wind_speed</th>\n",
       "      <th>weather_code</th>\n",
       "      <th>is_holiday</th>\n",
       "      <th>is_weekend</th>\n",
       "      <th>season</th>\n",
       "      <th>wind speed (m/s)</th>\n",
       "    </tr>\n",
       "  </thead>\n",
       "  <tbody>\n",
       "    <tr>\n",
       "      <th>13273</th>\n",
       "      <td>2016-07-13 13:00:00</td>\n",
       "      <td>1290</td>\n",
       "      <td>18</td>\n",
       "      <td>18</td>\n",
       "      <td>60</td>\n",
       "      <td>24</td>\n",
       "      <td>7</td>\n",
       "      <td>False</td>\n",
       "      <td>False</td>\n",
       "      <td>1</td>\n",
       "      <td>7</td>\n",
       "    </tr>\n",
       "    <tr>\n",
       "      <th>10007</th>\n",
       "      <td>2016-02-27 04:00:00</td>\n",
       "      <td>75</td>\n",
       "      <td>4</td>\n",
       "      <td>2</td>\n",
       "      <td>70</td>\n",
       "      <td>7</td>\n",
       "      <td>3</td>\n",
       "      <td>False</td>\n",
       "      <td>True</td>\n",
       "      <td>3</td>\n",
       "      <td>2</td>\n",
       "    </tr>\n",
       "    <tr>\n",
       "      <th>14555</th>\n",
       "      <td>2016-09-06 19:00:00</td>\n",
       "      <td>2661</td>\n",
       "      <td>23</td>\n",
       "      <td>23</td>\n",
       "      <td>74</td>\n",
       "      <td>8</td>\n",
       "      <td>3</td>\n",
       "      <td>False</td>\n",
       "      <td>False</td>\n",
       "      <td>2</td>\n",
       "      <td>2</td>\n",
       "    </tr>\n",
       "    <tr>\n",
       "      <th>14238</th>\n",
       "      <td>2016-08-23 01:00:00</td>\n",
       "      <td>201</td>\n",
       "      <td>18</td>\n",
       "      <td>18</td>\n",
       "      <td>80</td>\n",
       "      <td>5</td>\n",
       "      <td>1</td>\n",
       "      <td>False</td>\n",
       "      <td>False</td>\n",
       "      <td>1</td>\n",
       "      <td>1</td>\n",
       "    </tr>\n",
       "    <tr>\n",
       "      <th>6624</th>\n",
       "      <td>2015-10-08 00:00:00</td>\n",
       "      <td>245</td>\n",
       "      <td>12</td>\n",
       "      <td>12</td>\n",
       "      <td>70</td>\n",
       "      <td>12</td>\n",
       "      <td>3</td>\n",
       "      <td>False</td>\n",
       "      <td>False</td>\n",
       "      <td>2</td>\n",
       "      <td>3</td>\n",
       "    </tr>\n",
       "  </tbody>\n",
       "</table>\n",
       "</div>"
      ],
      "text/plain": [
       "                 timestamp   cnt  t1  t2  hum  wind_speed  weather_code  \\\n",
       "13273  2016-07-13 13:00:00  1290  18  18   60          24             7   \n",
       "10007  2016-02-27 04:00:00    75   4   2   70           7             3   \n",
       "14555  2016-09-06 19:00:00  2661  23  23   74           8             3   \n",
       "14238  2016-08-23 01:00:00   201  18  18   80           5             1   \n",
       "6624   2015-10-08 00:00:00   245  12  12   70          12             3   \n",
       "\n",
       "       is_holiday  is_weekend  season  wind speed (m/s)  \n",
       "13273       False       False       1                 7  \n",
       "10007       False        True       3                 2  \n",
       "14555       False       False       2                 2  \n",
       "14238       False       False       1                 1  \n",
       "6624        False       False       2                 3  "
      ]
     },
     "execution_count": 113,
     "metadata": {},
     "output_type": "execute_result"
    }
   ],
   "source": [
    "def speed_ms(speed):\n",
    "    return speed/3.6\n",
    "bikes['wind speed (m/s)'] = bikes['wind_speed'].apply(speed_ms)\n",
    "bikes.sample(5)"
   ]
  },
  {
   "cell_type": "markdown",
   "id": "49021a7d",
   "metadata": {},
   "source": [
    "Reorder columns"
   ]
  },
  {
   "cell_type": "code",
   "execution_count": 117,
   "id": "7e1f940b",
   "metadata": {},
   "outputs": [
    {
     "data": {
      "text/plain": [
       "Index(['timestamp', 'cnt', 't1', 't2', 'hum', 'wind_speed', 'weather_code',\n",
       "       'is_holiday', 'is_weekend', 'season', 'wind speed (m/s)'],\n",
       "      dtype='object')"
      ]
     },
     "execution_count": 117,
     "metadata": {},
     "output_type": "execute_result"
    }
   ],
   "source": [
    "bikes.columns"
   ]
  },
  {
   "cell_type": "code",
   "execution_count": 127,
   "id": "c69cc866",
   "metadata": {},
   "outputs": [
    {
     "name": "stdout",
     "output_type": "stream",
     "text": [
      "Old columns list:\n",
      "['timestamp', 'cnt', 't1', 't2', 'hum', 'wind_speed', 'weather_code', 'is_holiday', 'is_weekend', 'season', 'wind speed (m/s)']\n",
      "Reordered columns list\n",
      "['timestamp', 'cnt', 't1', 't2', 'hum', 'wind_speed', 'weather_code', 'season', 'is_holiday', 'is_weekend']\n"
     ]
    }
   ],
   "source": [
    "print('Old columns list:')\n",
    "print(list(bikes.columns))\n",
    "cols = [*bikes.columns[:7], 'season', 'is_holiday', 'is_weekend']\n",
    "print('Reordered columns list')\n",
    "print(cols)"
   ]
  },
  {
   "cell_type": "code",
   "execution_count": 131,
   "id": "de674a8d",
   "metadata": {},
   "outputs": [],
   "source": [
    "bikes = bikes.reindex(columns = cols)"
   ]
  },
  {
   "cell_type": "code",
   "execution_count": 132,
   "id": "fd8429fd",
   "metadata": {},
   "outputs": [
    {
     "data": {
      "text/plain": [
       "Index(['timestamp', 'cnt', 't1', 't2', 'hum', 'wind_speed', 'weather_code',\n",
       "       'season', 'is_holiday', 'is_weekend'],\n",
       "      dtype='object')"
      ]
     },
     "execution_count": 132,
     "metadata": {},
     "output_type": "execute_result"
    }
   ],
   "source": [
    "bikes.columns"
   ]
  },
  {
   "cell_type": "code",
   "execution_count": 137,
   "id": "9cdad11a",
   "metadata": {},
   "outputs": [],
   "source": [
    "bikes.rename(columns =\n",
    "             {'wind_speed': 'wind speed (km/h)',\n",
    "              'cnt':'count',\n",
    "              'timestamp': 'date'},\n",
    "             inplace=True)"
   ]
  },
  {
   "cell_type": "code",
   "execution_count": 138,
   "id": "e3c88655",
   "metadata": {},
   "outputs": [
    {
     "data": {
      "text/plain": [
       "Index(['date', 'count', 't1', 't2', 'hum', 'wind speed (km/h)', 'weather_code',\n",
       "       'season', 'is_holiday', 'is_weekend'],\n",
       "      dtype='object')"
      ]
     },
     "execution_count": 138,
     "metadata": {},
     "output_type": "execute_result"
    }
   ],
   "source": [
    "bikes.columns"
   ]
  },
  {
   "cell_type": "code",
   "execution_count": 150,
   "id": "a4d3a05d",
   "metadata": {},
   "outputs": [
    {
     "data": {
      "text/plain": [
       "datetime.date(2017, 1, 3)"
      ]
     },
     "execution_count": 150,
     "metadata": {},
     "output_type": "execute_result"
    }
   ],
   "source": [
    "bikes['date'] = pd.to_datetime(bikes['date'])\n",
    "bikes['date'] = bikes['date'].dt.date\n",
    "bikes['date'].max()"
   ]
  },
  {
   "cell_type": "markdown",
   "id": "e1140ed3",
   "metadata": {},
   "source": [
    "Create a filter function to extract data from dataframe"
   ]
  },
  {
   "cell_type": "code",
   "execution_count": 169,
   "id": "b9c9c052",
   "metadata": {},
   "outputs": [],
   "source": [
    "def filter(df, season=0, weather=1, weekend=True, holiday=False):\n",
    "#def filter(df, season=0):\n",
    "    \"\"\"\n",
    "    holiday - boolean field - 1 holiday / 0 non holiday\n",
    "    weekend - boolean field - 1 if the day is weekend\n",
    "\n",
    "    season - category field meteorological seasons: 0-spring ; 1-summer; 2-fall; 3-winter.\n",
    "\n",
    "    weather category description:\n",
    "    1 = Clear ; mostly clear but have some values with haze/fog/patches of fog/ fog in vicinity\n",
    "    2 = scattered clouds / few clouds\n",
    "    3 = Broken clouds\n",
    "    4 = Cloudy\n",
    "    7 = Rain/ light Rain shower/ Light rain\n",
    "    10 = rain with thunderstorm\n",
    "    26 = snowfall\n",
    "    94 = Freezing Fog\n",
    "    \"\"\"\n",
    "    mask1 = bikes['season'] == season\n",
    "    mask2 = bikes['weather_code'] == weather\n",
    "    mask3 = bikes['is_holiday'] == holiday\n",
    "    mask4 = bikes['is_weekend'] == weekend\n",
    "    final_mask = mask1 & mask2 & mask3 & mask4\n",
    "    return final_mask"
   ]
  },
  {
   "cell_type": "code",
   "execution_count": 167,
   "id": "eea1d189",
   "metadata": {},
   "outputs": [
    {
     "name": "stdout",
     "output_type": "stream",
     "text": [
      "Help on function filter in module __main__:\n",
      "\n",
      "filter(df, season=0)\n",
      "    holiday - boolean field - 1 holiday / 0 non holiday\n",
      "    weekend - boolean field - 1 if the day is weekend\n",
      "    \n",
      "    season - category field meteorological seasons: 0-spring ; 1-summer; 2-fall; 3-winter.\n",
      "    \n",
      "    weather category description:\n",
      "    1 = Clear ; mostly clear but have some values with haze/fog/patches of fog/ fog in vicinity\n",
      "    2 = scattered clouds / few clouds\n",
      "    3 = Broken clouds\n",
      "    4 = Cloudy\n",
      "    7 = Rain/ light Rain shower/ Light rain\n",
      "    10 = rain with thunderstorm\n",
      "    26 = snowfall\n",
      "    94 = Freezing Fog\n",
      "\n"
     ]
    }
   ],
   "source": [
    "help(filter)"
   ]
  },
  {
   "cell_type": "code",
   "execution_count": 170,
   "id": "dacc30db",
   "metadata": {},
   "outputs": [
    {
     "data": {
      "text/html": [
       "<div>\n",
       "<style scoped>\n",
       "    .dataframe tbody tr th:only-of-type {\n",
       "        vertical-align: middle;\n",
       "    }\n",
       "\n",
       "    .dataframe tbody tr th {\n",
       "        vertical-align: top;\n",
       "    }\n",
       "\n",
       "    .dataframe thead th {\n",
       "        text-align: right;\n",
       "    }\n",
       "</style>\n",
       "<table border=\"1\" class=\"dataframe\">\n",
       "  <thead>\n",
       "    <tr style=\"text-align: right;\">\n",
       "      <th></th>\n",
       "      <th>date</th>\n",
       "      <th>count</th>\n",
       "      <th>t1</th>\n",
       "      <th>t2</th>\n",
       "      <th>hum</th>\n",
       "      <th>wind speed (km/h)</th>\n",
       "      <th>weather_code</th>\n",
       "      <th>season</th>\n",
       "      <th>is_holiday</th>\n",
       "      <th>is_weekend</th>\n",
       "    </tr>\n",
       "  </thead>\n",
       "  <tbody>\n",
       "    <tr>\n",
       "      <th>5745</th>\n",
       "      <td>2015-09-01</td>\n",
       "      <td>235</td>\n",
       "      <td>15</td>\n",
       "      <td>15</td>\n",
       "      <td>88</td>\n",
       "      <td>10</td>\n",
       "      <td>4</td>\n",
       "      <td>2</td>\n",
       "      <td>False</td>\n",
       "      <td>False</td>\n",
       "    </tr>\n",
       "    <tr>\n",
       "      <th>5838</th>\n",
       "      <td>2015-09-04</td>\n",
       "      <td>732</td>\n",
       "      <td>14</td>\n",
       "      <td>14</td>\n",
       "      <td>61</td>\n",
       "      <td>7</td>\n",
       "      <td>4</td>\n",
       "      <td>2</td>\n",
       "      <td>False</td>\n",
       "      <td>False</td>\n",
       "    </tr>\n",
       "    <tr>\n",
       "      <th>5839</th>\n",
       "      <td>2015-09-04</td>\n",
       "      <td>677</td>\n",
       "      <td>14</td>\n",
       "      <td>14</td>\n",
       "      <td>63</td>\n",
       "      <td>8</td>\n",
       "      <td>4</td>\n",
       "      <td>2</td>\n",
       "      <td>False</td>\n",
       "      <td>False</td>\n",
       "    </tr>\n",
       "    <tr>\n",
       "      <th>5840</th>\n",
       "      <td>2015-09-04</td>\n",
       "      <td>584</td>\n",
       "      <td>14</td>\n",
       "      <td>14</td>\n",
       "      <td>63</td>\n",
       "      <td>8</td>\n",
       "      <td>4</td>\n",
       "      <td>2</td>\n",
       "      <td>False</td>\n",
       "      <td>False</td>\n",
       "    </tr>\n",
       "    <tr>\n",
       "      <th>5914</th>\n",
       "      <td>2015-09-08</td>\n",
       "      <td>148</td>\n",
       "      <td>13</td>\n",
       "      <td>13</td>\n",
       "      <td>82</td>\n",
       "      <td>6</td>\n",
       "      <td>4</td>\n",
       "      <td>2</td>\n",
       "      <td>False</td>\n",
       "      <td>False</td>\n",
       "    </tr>\n",
       "    <tr>\n",
       "      <th>...</th>\n",
       "      <td>...</td>\n",
       "      <td>...</td>\n",
       "      <td>...</td>\n",
       "      <td>...</td>\n",
       "      <td>...</td>\n",
       "      <td>...</td>\n",
       "      <td>...</td>\n",
       "      <td>...</td>\n",
       "      <td>...</td>\n",
       "      <td>...</td>\n",
       "    </tr>\n",
       "    <tr>\n",
       "      <th>16526</th>\n",
       "      <td>2016-11-28</td>\n",
       "      <td>152</td>\n",
       "      <td>8</td>\n",
       "      <td>6</td>\n",
       "      <td>62</td>\n",
       "      <td>14</td>\n",
       "      <td>4</td>\n",
       "      <td>2</td>\n",
       "      <td>False</td>\n",
       "      <td>False</td>\n",
       "    </tr>\n",
       "    <tr>\n",
       "      <th>16527</th>\n",
       "      <td>2016-11-28</td>\n",
       "      <td>92</td>\n",
       "      <td>8</td>\n",
       "      <td>6</td>\n",
       "      <td>62</td>\n",
       "      <td>14</td>\n",
       "      <td>4</td>\n",
       "      <td>2</td>\n",
       "      <td>False</td>\n",
       "      <td>False</td>\n",
       "    </tr>\n",
       "    <tr>\n",
       "      <th>16528</th>\n",
       "      <td>2016-11-28</td>\n",
       "      <td>59</td>\n",
       "      <td>8</td>\n",
       "      <td>6</td>\n",
       "      <td>62</td>\n",
       "      <td>14</td>\n",
       "      <td>4</td>\n",
       "      <td>2</td>\n",
       "      <td>False</td>\n",
       "      <td>False</td>\n",
       "    </tr>\n",
       "    <tr>\n",
       "      <th>16529</th>\n",
       "      <td>2016-11-28</td>\n",
       "      <td>27</td>\n",
       "      <td>8</td>\n",
       "      <td>5</td>\n",
       "      <td>62</td>\n",
       "      <td>15</td>\n",
       "      <td>4</td>\n",
       "      <td>2</td>\n",
       "      <td>False</td>\n",
       "      <td>False</td>\n",
       "    </tr>\n",
       "    <tr>\n",
       "      <th>16530</th>\n",
       "      <td>2016-11-28</td>\n",
       "      <td>35</td>\n",
       "      <td>8</td>\n",
       "      <td>6</td>\n",
       "      <td>62</td>\n",
       "      <td>12</td>\n",
       "      <td>4</td>\n",
       "      <td>2</td>\n",
       "      <td>False</td>\n",
       "      <td>False</td>\n",
       "    </tr>\n",
       "  </tbody>\n",
       "</table>\n",
       "<p>236 rows × 10 columns</p>\n",
       "</div>"
      ],
      "text/plain": [
       "             date  count  t1  t2  hum  wind speed (km/h)  weather_code  \\\n",
       "5745   2015-09-01    235  15  15   88                 10             4   \n",
       "5838   2015-09-04    732  14  14   61                  7             4   \n",
       "5839   2015-09-04    677  14  14   63                  8             4   \n",
       "5840   2015-09-04    584  14  14   63                  8             4   \n",
       "5914   2015-09-08    148  13  13   82                  6             4   \n",
       "...           ...    ...  ..  ..  ...                ...           ...   \n",
       "16526  2016-11-28    152   8   6   62                 14             4   \n",
       "16527  2016-11-28     92   8   6   62                 14             4   \n",
       "16528  2016-11-28     59   8   6   62                 14             4   \n",
       "16529  2016-11-28     27   8   5   62                 15             4   \n",
       "16530  2016-11-28     35   8   6   62                 12             4   \n",
       "\n",
       "       season  is_holiday  is_weekend  \n",
       "5745        2       False       False  \n",
       "5838        2       False       False  \n",
       "5839        2       False       False  \n",
       "5840        2       False       False  \n",
       "5914        2       False       False  \n",
       "...       ...         ...         ...  \n",
       "16526       2       False       False  \n",
       "16527       2       False       False  \n",
       "16528       2       False       False  \n",
       "16529       2       False       False  \n",
       "16530       2       False       False  \n",
       "\n",
       "[236 rows x 10 columns]"
      ]
     },
     "execution_count": 170,
     "metadata": {},
     "output_type": "execute_result"
    }
   ],
   "source": [
    "mask = filter(bikes, season=2, weather=4, holiday=False, weekend=False)\n",
    "bikes[mask]"
   ]
  }
 ],
 "metadata": {
  "kernelspec": {
   "display_name": "Python 3 (ipykernel)",
   "language": "python",
   "name": "python3"
  },
  "language_info": {
   "codemirror_mode": {
    "name": "ipython",
    "version": 3
   },
   "file_extension": ".py",
   "mimetype": "text/x-python",
   "name": "python",
   "nbconvert_exporter": "python",
   "pygments_lexer": "ipython3",
   "version": "3.10.4"
  }
 },
 "nbformat": 4,
 "nbformat_minor": 5
}
