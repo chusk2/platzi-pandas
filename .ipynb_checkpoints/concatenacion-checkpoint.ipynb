{
 "cells": [
  {
   "cell_type": "code",
   "execution_count": 1,
   "id": "ab87f698-61d2-4ffb-8759-d52122b28f2f",
   "metadata": {},
   "outputs": [],
   "source": [
    "import numpy as np\n",
    "import pandas as pd"
   ]
  },
  {
   "cell_type": "code",
   "execution_count": 4,
   "id": "6e27c6f8-14a8-4db3-88ea-6d260dd9ea04",
   "metadata": {},
   "outputs": [
    {
     "data": {
      "text/plain": [
       "array([[ 4, -4,  9],\n",
       "       [-6,  2, -4]])"
      ]
     },
     "execution_count": 4,
     "metadata": {},
     "output_type": "execute_result"
    }
   ],
   "source": [
    "x1 = np.random.randint(-10,10,(2,3))\n",
    "x1"
   ]
  },
  {
   "cell_type": "code",
   "execution_count": 5,
   "id": "d980d88f-72dd-44e9-9723-5c8166d04400",
   "metadata": {},
   "outputs": [
    {
     "data": {
      "text/plain": [
       "array([[-4,  6,  7],\n",
       "       [ 0,  5,  6]])"
      ]
     },
     "execution_count": 5,
     "metadata": {},
     "output_type": "execute_result"
    }
   ],
   "source": [
    "x2 = np.random.randint(-10,10,(2,3))\n",
    "x2"
   ]
  },
  {
   "cell_type": "markdown",
   "id": "965e4783-804e-4a4b-8223-0b2d9b3f6b15",
   "metadata": {
    "tags": []
   },
   "source": [
    "### Concatenate two arrays vertically"
   ]
  },
  {
   "cell_type": "code",
   "execution_count": 8,
   "id": "ea0a584b-f70b-40aa-a912-acf6d5925b50",
   "metadata": {},
   "outputs": [
    {
     "data": {
      "text/plain": [
       "array([[ 4, -4,  9],\n",
       "       [-6,  2, -4],\n",
       "       [-4,  6,  7],\n",
       "       [ 0,  5,  6]])"
      ]
     },
     "execution_count": 8,
     "metadata": {},
     "output_type": "execute_result"
    }
   ],
   "source": [
    "xfinal = np.concatenate([x1,x2])\n",
    "xfinal"
   ]
  },
  {
   "cell_type": "markdown",
   "id": "214ac2d3-9be7-4039-9b8a-69572d88b44f",
   "metadata": {
    "tags": []
   },
   "source": [
    "### Concatenate two arrays horizontally"
   ]
  },
  {
   "cell_type": "code",
   "execution_count": 10,
   "id": "9ee97c98-c3ca-4a06-9048-bafa30f91057",
   "metadata": {},
   "outputs": [
    {
     "data": {
      "text/plain": [
       "array([[ 4, -4,  9, -4,  6,  7],\n",
       "       [-6,  2, -4,  0,  5,  6]])"
      ]
     },
     "execution_count": 10,
     "metadata": {},
     "output_type": "execute_result"
    }
   ],
   "source": [
    "xfinal2 = np.concatenate([x1,x2], axis=1)\n",
    "xfinal2"
   ]
  },
  {
   "cell_type": "code",
   "execution_count": 15,
   "id": "736c22d2-6f6a-46dd-a4b5-e31be10b3a9a",
   "metadata": {},
   "outputs": [
    {
     "data": {
      "text/plain": [
       "array([ 4, -4,  9, -4,  6,  7, -6,  2, -4,  0,  5,  6])"
      ]
     },
     "execution_count": 15,
     "metadata": {},
     "output_type": "execute_result"
    }
   ],
   "source": [
    "xfinal2.flatten()"
   ]
  },
  {
   "cell_type": "code",
   "execution_count": 16,
   "id": "697ffc78-f36b-4a2a-ba1c-a01c79665158",
   "metadata": {},
   "outputs": [
    {
     "data": {
      "text/plain": [
       "(2, 6)"
      ]
     },
     "execution_count": 16,
     "metadata": {},
     "output_type": "execute_result"
    }
   ],
   "source": [
    "xfinal2.shape"
   ]
  },
  {
   "cell_type": "code",
   "execution_count": 20,
   "id": "07b9944e-5aa2-4e25-98a9-391798da8db6",
   "metadata": {},
   "outputs": [],
   "source": [
    "df = pd.DataFrame(xfinal2.reshape(3,4), index=list('abc'), columns = [f'Col {i.upper()}' for i in 'abcd'])"
   ]
  },
  {
   "cell_type": "code",
   "execution_count": 21,
   "id": "639989fc-6def-4d88-9a75-8efd7ec211f8",
   "metadata": {},
   "outputs": [
    {
     "data": {
      "text/html": [
       "<div>\n",
       "<style scoped>\n",
       "    .dataframe tbody tr th:only-of-type {\n",
       "        vertical-align: middle;\n",
       "    }\n",
       "\n",
       "    .dataframe tbody tr th {\n",
       "        vertical-align: top;\n",
       "    }\n",
       "\n",
       "    .dataframe thead th {\n",
       "        text-align: right;\n",
       "    }\n",
       "</style>\n",
       "<table border=\"1\" class=\"dataframe\">\n",
       "  <thead>\n",
       "    <tr style=\"text-align: right;\">\n",
       "      <th></th>\n",
       "      <th>Col A</th>\n",
       "      <th>Col B</th>\n",
       "      <th>Col C</th>\n",
       "      <th>Col D</th>\n",
       "    </tr>\n",
       "  </thead>\n",
       "  <tbody>\n",
       "    <tr>\n",
       "      <th>a</th>\n",
       "      <td>4</td>\n",
       "      <td>-4</td>\n",
       "      <td>9</td>\n",
       "      <td>-4</td>\n",
       "    </tr>\n",
       "    <tr>\n",
       "      <th>b</th>\n",
       "      <td>6</td>\n",
       "      <td>7</td>\n",
       "      <td>-6</td>\n",
       "      <td>2</td>\n",
       "    </tr>\n",
       "    <tr>\n",
       "      <th>c</th>\n",
       "      <td>-4</td>\n",
       "      <td>0</td>\n",
       "      <td>5</td>\n",
       "      <td>6</td>\n",
       "    </tr>\n",
       "  </tbody>\n",
       "</table>\n",
       "</div>"
      ],
      "text/plain": [
       "   Col A  Col B  Col C  Col D\n",
       "a      4     -4      9     -4\n",
       "b      6      7     -6      2\n",
       "c     -4      0      5      6"
      ]
     },
     "execution_count": 21,
     "metadata": {},
     "output_type": "execute_result"
    }
   ],
   "source": [
    "df"
   ]
  },
  {
   "cell_type": "code",
   "execution_count": 81,
   "id": "6536967d-2fce-4128-915c-20a6ff21d6af",
   "metadata": {},
   "outputs": [
    {
     "data": {
      "text/plain": [
       "A    1\n",
       "C    0\n",
       "C    2\n",
       "E   -4\n",
       "E    3\n",
       "F   -3\n",
       "F   -1\n",
       "J    4\n",
       "J   -4\n",
       "J    2\n",
       "dtype: int64"
      ]
     },
     "execution_count": 81,
     "metadata": {},
     "output_type": "execute_result"
    }
   ],
   "source": [
    "indexes = [chr(i) for i in np.random.randint(65,75,len(s1))]\n",
    "s1 = pd.Series(np.random.randint(-5,5,10), indexes).sort_index()\n",
    "s1"
   ]
  },
  {
   "cell_type": "code",
   "execution_count": 82,
   "id": "8c3d947f-aeac-4688-acbf-6c71805ba507",
   "metadata": {},
   "outputs": [
    {
     "data": {
      "text/plain": [
       "A    2\n",
       "C   -4\n",
       "C    2\n",
       "E    0\n",
       "E   -4\n",
       "F    0\n",
       "F   -1\n",
       "J   -3\n",
       "J    3\n",
       "J    0\n",
       "dtype: int64"
      ]
     },
     "execution_count": 82,
     "metadata": {},
     "output_type": "execute_result"
    }
   ],
   "source": [
    "s2 = pd.Series(np.random.randint(-5,5,10), indexes).sort_index()\n",
    "#indexes = [chr(i) for i in np.random.randint(76,91,len(s2))]\n",
    "s2"
   ]
  },
  {
   "cell_type": "code",
   "execution_count": 84,
   "id": "3de44285-786e-4031-958b-fe77986cde72",
   "metadata": {},
   "outputs": [
    {
     "data": {
      "text/html": [
       "<div>\n",
       "<style scoped>\n",
       "    .dataframe tbody tr th:only-of-type {\n",
       "        vertical-align: middle;\n",
       "    }\n",
       "\n",
       "    .dataframe tbody tr th {\n",
       "        vertical-align: top;\n",
       "    }\n",
       "\n",
       "    .dataframe thead th {\n",
       "        text-align: right;\n",
       "    }\n",
       "</style>\n",
       "<table border=\"1\" class=\"dataframe\">\n",
       "  <thead>\n",
       "    <tr style=\"text-align: right;\">\n",
       "      <th></th>\n",
       "      <th>0</th>\n",
       "      <th>1</th>\n",
       "    </tr>\n",
       "  </thead>\n",
       "  <tbody>\n",
       "    <tr>\n",
       "      <th>A</th>\n",
       "      <td>1</td>\n",
       "      <td>2</td>\n",
       "    </tr>\n",
       "    <tr>\n",
       "      <th>C</th>\n",
       "      <td>0</td>\n",
       "      <td>-4</td>\n",
       "    </tr>\n",
       "    <tr>\n",
       "      <th>C</th>\n",
       "      <td>2</td>\n",
       "      <td>2</td>\n",
       "    </tr>\n",
       "    <tr>\n",
       "      <th>E</th>\n",
       "      <td>-4</td>\n",
       "      <td>0</td>\n",
       "    </tr>\n",
       "    <tr>\n",
       "      <th>E</th>\n",
       "      <td>3</td>\n",
       "      <td>-4</td>\n",
       "    </tr>\n",
       "    <tr>\n",
       "      <th>F</th>\n",
       "      <td>-3</td>\n",
       "      <td>0</td>\n",
       "    </tr>\n",
       "    <tr>\n",
       "      <th>F</th>\n",
       "      <td>-1</td>\n",
       "      <td>-1</td>\n",
       "    </tr>\n",
       "    <tr>\n",
       "      <th>J</th>\n",
       "      <td>4</td>\n",
       "      <td>-3</td>\n",
       "    </tr>\n",
       "    <tr>\n",
       "      <th>J</th>\n",
       "      <td>-4</td>\n",
       "      <td>3</td>\n",
       "    </tr>\n",
       "    <tr>\n",
       "      <th>J</th>\n",
       "      <td>2</td>\n",
       "      <td>0</td>\n",
       "    </tr>\n",
       "  </tbody>\n",
       "</table>\n",
       "</div>"
      ],
      "text/plain": [
       "   0  1\n",
       "A  1  2\n",
       "C  0 -4\n",
       "C  2  2\n",
       "E -4  0\n",
       "E  3 -4\n",
       "F -3  0\n",
       "F -1 -1\n",
       "J  4 -3\n",
       "J -4  3\n",
       "J  2  0"
      ]
     },
     "execution_count": 84,
     "metadata": {},
     "output_type": "execute_result"
    }
   ],
   "source": [
    "df = pd.concat([s1,s2], axis=1).sort_index()\n",
    "df"
   ]
  },
  {
   "cell_type": "code",
   "execution_count": 115,
   "id": "c0362408-1089-4016-a52d-c03fab910678",
   "metadata": {},
   "outputs": [],
   "source": [
    "from random import choice\n",
    "indexes = [chr(i) for i in np.random.randint(65,91,10)]\n",
    "s3 = pd.Series(np.random.randint(-5,5,10), indexes).sort_index()\n",
    "# repeat some labels of series 3 from series 2\n",
    "indexes2 = indexes[3:]\n",
    "indexes2.extend([choice(indexes) for i in range(3)])\n",
    "s4 = pd.Series(np.random.randint(-20,20,10), indexes2).sort_index()"
   ]
  },
  {
   "cell_type": "code",
   "execution_count": 116,
   "id": "419ccb34-ae06-49fe-ac86-0144ed8fb5ab",
   "metadata": {},
   "outputs": [
    {
     "data": {
      "text/plain": [
       "B   -1\n",
       "D    2\n",
       "H   -3\n",
       "K    0\n",
       "L    0\n",
       "S   -2\n",
       "U   -2\n",
       "V    4\n",
       "W    2\n",
       "X    0\n",
       "dtype: int64"
      ]
     },
     "execution_count": 116,
     "metadata": {},
     "output_type": "execute_result"
    }
   ],
   "source": [
    "s3"
   ]
  },
  {
   "cell_type": "code",
   "execution_count": 117,
   "id": "b00cc649-2dc2-4bec-9adc-989d359ef130",
   "metadata": {},
   "outputs": [
    {
     "data": {
      "text/plain": [
       "D   -15\n",
       "H    -2\n",
       "K    -4\n",
       "L    11\n",
       "S   -10\n",
       "S     9\n",
       "U     7\n",
       "U    -2\n",
       "V   -15\n",
       "X     2\n",
       "dtype: int64"
      ]
     },
     "execution_count": 117,
     "metadata": {},
     "output_type": "execute_result"
    }
   ],
   "source": [
    "s4"
   ]
  },
  {
   "cell_type": "code",
   "execution_count": 120,
   "id": "d2b3af18-57ef-4ae2-a09f-f2f7100e4e97",
   "metadata": {},
   "outputs": [
    {
     "data": {
      "text/html": [
       "<div>\n",
       "<style scoped>\n",
       "    .dataframe tbody tr th:only-of-type {\n",
       "        vertical-align: middle;\n",
       "    }\n",
       "\n",
       "    .dataframe tbody tr th {\n",
       "        vertical-align: top;\n",
       "    }\n",
       "\n",
       "    .dataframe thead th {\n",
       "        text-align: right;\n",
       "    }\n",
       "</style>\n",
       "<table border=\"1\" class=\"dataframe\">\n",
       "  <thead>\n",
       "    <tr style=\"text-align: right;\">\n",
       "      <th></th>\n",
       "      <th>0</th>\n",
       "      <th>1</th>\n",
       "    </tr>\n",
       "  </thead>\n",
       "  <tbody>\n",
       "    <tr>\n",
       "      <th>D</th>\n",
       "      <td>-4.0</td>\n",
       "      <td>2.0</td>\n",
       "    </tr>\n",
       "    <tr>\n",
       "      <th>F</th>\n",
       "      <td>1.0</td>\n",
       "      <td>NaN</td>\n",
       "    </tr>\n",
       "    <tr>\n",
       "      <th>G</th>\n",
       "      <td>2.0</td>\n",
       "      <td>NaN</td>\n",
       "    </tr>\n",
       "    <tr>\n",
       "      <th>H</th>\n",
       "      <td>4.0</td>\n",
       "      <td>-3.0</td>\n",
       "    </tr>\n",
       "    <tr>\n",
       "      <th>I</th>\n",
       "      <td>2.0</td>\n",
       "      <td>NaN</td>\n",
       "    </tr>\n",
       "    <tr>\n",
       "      <th>K</th>\n",
       "      <td>-2.0</td>\n",
       "      <td>0.0</td>\n",
       "    </tr>\n",
       "    <tr>\n",
       "      <th>M</th>\n",
       "      <td>-2.0</td>\n",
       "      <td>NaN</td>\n",
       "    </tr>\n",
       "    <tr>\n",
       "      <th>N</th>\n",
       "      <td>-1.0</td>\n",
       "      <td>NaN</td>\n",
       "    </tr>\n",
       "    <tr>\n",
       "      <th>T</th>\n",
       "      <td>1.0</td>\n",
       "      <td>NaN</td>\n",
       "    </tr>\n",
       "    <tr>\n",
       "      <th>U</th>\n",
       "      <td>-5.0</td>\n",
       "      <td>-2.0</td>\n",
       "    </tr>\n",
       "    <tr>\n",
       "      <th>B</th>\n",
       "      <td>NaN</td>\n",
       "      <td>-1.0</td>\n",
       "    </tr>\n",
       "    <tr>\n",
       "      <th>L</th>\n",
       "      <td>NaN</td>\n",
       "      <td>0.0</td>\n",
       "    </tr>\n",
       "    <tr>\n",
       "      <th>S</th>\n",
       "      <td>NaN</td>\n",
       "      <td>-2.0</td>\n",
       "    </tr>\n",
       "    <tr>\n",
       "      <th>V</th>\n",
       "      <td>NaN</td>\n",
       "      <td>4.0</td>\n",
       "    </tr>\n",
       "    <tr>\n",
       "      <th>W</th>\n",
       "      <td>NaN</td>\n",
       "      <td>2.0</td>\n",
       "    </tr>\n",
       "    <tr>\n",
       "      <th>X</th>\n",
       "      <td>NaN</td>\n",
       "      <td>0.0</td>\n",
       "    </tr>\n",
       "  </tbody>\n",
       "</table>\n",
       "</div>"
      ],
      "text/plain": [
       "     0    1\n",
       "D -4.0  2.0\n",
       "F  1.0  NaN\n",
       "G  2.0  NaN\n",
       "H  4.0 -3.0\n",
       "I  2.0  NaN\n",
       "K -2.0  0.0\n",
       "M -2.0  NaN\n",
       "N -1.0  NaN\n",
       "T  1.0  NaN\n",
       "U -5.0 -2.0\n",
       "B  NaN -1.0\n",
       "L  NaN  0.0\n",
       "S  NaN -2.0\n",
       "V  NaN  4.0\n",
       "W  NaN  2.0\n",
       "X  NaN  0.0"
      ]
     },
     "execution_count": 120,
     "metadata": {},
     "output_type": "execute_result"
    }
   ],
   "source": [
    "df2 = pd.concat([s2,s3],axis=1)\n",
    "df2"
   ]
  },
  {
   "cell_type": "markdown",
   "id": "b4161805-af62-4480-97a4-ad58637b13a8",
   "metadata": {},
   "source": [
    "Los valores nan son debidos a que en esa fila, la etiqueta, y por lo tanto el valor asociado, no existía en la serie original. Si las series tenían etiquetas en común, el DataFrame resultante tiene valores para ambas columnas."
   ]
  },
  {
   "cell_type": "code",
   "execution_count": 121,
   "id": "20233c77-250e-4b4c-8b4f-d3ebd457907e",
   "metadata": {},
   "outputs": [
    {
     "data": {
      "text/plain": [
       "D   -4\n",
       "F    1\n",
       "G    2\n",
       "H    4\n",
       "I    2\n",
       "K   -2\n",
       "M   -2\n",
       "N   -1\n",
       "T    1\n",
       "U   -5\n",
       "dtype: int64"
      ]
     },
     "execution_count": 121,
     "metadata": {},
     "output_type": "execute_result"
    }
   ],
   "source": [
    "s2"
   ]
  },
  {
   "cell_type": "markdown",
   "id": "1d74d271-ad53-425a-9c47-4c377847f5b0",
   "metadata": {},
   "source": [
    "Resetear el índice de una serie/df usando `reset_index`"
   ]
  },
  {
   "cell_type": "code",
   "execution_count": 122,
   "id": "ba396d88-81a8-4d82-82c9-3fdf77710b8a",
   "metadata": {},
   "outputs": [
    {
     "data": {
      "text/html": [
       "<div>\n",
       "<style scoped>\n",
       "    .dataframe tbody tr th:only-of-type {\n",
       "        vertical-align: middle;\n",
       "    }\n",
       "\n",
       "    .dataframe tbody tr th {\n",
       "        vertical-align: top;\n",
       "    }\n",
       "\n",
       "    .dataframe thead th {\n",
       "        text-align: right;\n",
       "    }\n",
       "</style>\n",
       "<table border=\"1\" class=\"dataframe\">\n",
       "  <thead>\n",
       "    <tr style=\"text-align: right;\">\n",
       "      <th></th>\n",
       "      <th>index</th>\n",
       "      <th>0</th>\n",
       "    </tr>\n",
       "  </thead>\n",
       "  <tbody>\n",
       "    <tr>\n",
       "      <th>0</th>\n",
       "      <td>D</td>\n",
       "      <td>-4</td>\n",
       "    </tr>\n",
       "    <tr>\n",
       "      <th>1</th>\n",
       "      <td>F</td>\n",
       "      <td>1</td>\n",
       "    </tr>\n",
       "    <tr>\n",
       "      <th>2</th>\n",
       "      <td>G</td>\n",
       "      <td>2</td>\n",
       "    </tr>\n",
       "    <tr>\n",
       "      <th>3</th>\n",
       "      <td>H</td>\n",
       "      <td>4</td>\n",
       "    </tr>\n",
       "    <tr>\n",
       "      <th>4</th>\n",
       "      <td>I</td>\n",
       "      <td>2</td>\n",
       "    </tr>\n",
       "    <tr>\n",
       "      <th>5</th>\n",
       "      <td>K</td>\n",
       "      <td>-2</td>\n",
       "    </tr>\n",
       "    <tr>\n",
       "      <th>6</th>\n",
       "      <td>M</td>\n",
       "      <td>-2</td>\n",
       "    </tr>\n",
       "    <tr>\n",
       "      <th>7</th>\n",
       "      <td>N</td>\n",
       "      <td>-1</td>\n",
       "    </tr>\n",
       "    <tr>\n",
       "      <th>8</th>\n",
       "      <td>T</td>\n",
       "      <td>1</td>\n",
       "    </tr>\n",
       "    <tr>\n",
       "      <th>9</th>\n",
       "      <td>U</td>\n",
       "      <td>-5</td>\n",
       "    </tr>\n",
       "  </tbody>\n",
       "</table>\n",
       "</div>"
      ],
      "text/plain": [
       "  index  0\n",
       "0     D -4\n",
       "1     F  1\n",
       "2     G  2\n",
       "3     H  4\n",
       "4     I  2\n",
       "5     K -2\n",
       "6     M -2\n",
       "7     N -1\n",
       "8     T  1\n",
       "9     U -5"
      ]
     },
     "execution_count": 122,
     "metadata": {},
     "output_type": "execute_result"
    }
   ],
   "source": [
    "s2.reset_index()"
   ]
  },
  {
   "cell_type": "markdown",
   "id": "696a62c2-1d15-4eca-b121-2caf9d272019",
   "metadata": {},
   "source": [
    "El índice aparece como una columna adicional por si queremos conservarlo. Si no es así, podemos usar la opción `drop=True` para que dicha columna no aparezca en el resultado final."
   ]
  },
  {
   "cell_type": "code",
   "execution_count": 123,
   "id": "5101cb88-be87-4585-9e35-3249105ddf80",
   "metadata": {},
   "outputs": [
    {
     "data": {
      "text/plain": [
       "0   -4\n",
       "1    1\n",
       "2    2\n",
       "3    4\n",
       "4    2\n",
       "5   -2\n",
       "6   -2\n",
       "7   -1\n",
       "8    1\n",
       "9   -5\n",
       "dtype: int64"
      ]
     },
     "execution_count": 123,
     "metadata": {},
     "output_type": "execute_result"
    }
   ],
   "source": [
    "s2.reset_index(drop=True)"
   ]
  },
  {
   "cell_type": "code",
   "execution_count": 126,
   "id": "026170bf-e941-42fa-b751-3d160a5c004d",
   "metadata": {},
   "outputs": [
    {
     "data": {
      "text/plain": [
       "A    1\n",
       "C    0\n",
       "C    2\n",
       "E   -4\n",
       "E    3\n",
       "dtype: int64"
      ]
     },
     "execution_count": 126,
     "metadata": {},
     "output_type": "execute_result"
    }
   ],
   "source": [
    "s1.head().sort_index()"
   ]
  },
  {
   "cell_type": "code",
   "execution_count": 127,
   "id": "e67bead7-df4f-4609-ab59-153b6543635f",
   "metadata": {},
   "outputs": [
    {
     "data": {
      "text/plain": [
       "D   -4\n",
       "F    1\n",
       "G    2\n",
       "H    4\n",
       "I    2\n",
       "dtype: int64"
      ]
     },
     "execution_count": 127,
     "metadata": {},
     "output_type": "execute_result"
    }
   ],
   "source": [
    "s2.head().sort_index()"
   ]
  },
  {
   "cell_type": "markdown",
   "id": "af10e18c-e9b5-4e9e-a9d4-67b9972421e1",
   "metadata": {},
   "source": [
    "Los índices de s1 y s2 no coinciden. Al concatenar esas series, aparecerán valores `nan`. Para evitar esto, podemos resetear los índices de cada serie antes de concatenarlos"
   ]
  },
  {
   "cell_type": "code",
   "execution_count": 134,
   "id": "8dc6b11a-42d0-4422-8959-d219d1d1bd16",
   "metadata": {},
   "outputs": [
    {
     "data": {
      "text/html": [
       "<div>\n",
       "<style scoped>\n",
       "    .dataframe tbody tr th:only-of-type {\n",
       "        vertical-align: middle;\n",
       "    }\n",
       "\n",
       "    .dataframe tbody tr th {\n",
       "        vertical-align: top;\n",
       "    }\n",
       "\n",
       "    .dataframe thead th {\n",
       "        text-align: right;\n",
       "    }\n",
       "</style>\n",
       "<table border=\"1\" class=\"dataframe\">\n",
       "  <thead>\n",
       "    <tr style=\"text-align: right;\">\n",
       "      <th></th>\n",
       "      <th>Col 1</th>\n",
       "      <th>Col 2</th>\n",
       "    </tr>\n",
       "  </thead>\n",
       "  <tbody>\n",
       "    <tr>\n",
       "      <th>0</th>\n",
       "      <td>1</td>\n",
       "      <td>-4</td>\n",
       "    </tr>\n",
       "    <tr>\n",
       "      <th>1</th>\n",
       "      <td>0</td>\n",
       "      <td>1</td>\n",
       "    </tr>\n",
       "    <tr>\n",
       "      <th>2</th>\n",
       "      <td>2</td>\n",
       "      <td>2</td>\n",
       "    </tr>\n",
       "    <tr>\n",
       "      <th>3</th>\n",
       "      <td>-4</td>\n",
       "      <td>4</td>\n",
       "    </tr>\n",
       "    <tr>\n",
       "      <th>4</th>\n",
       "      <td>3</td>\n",
       "      <td>2</td>\n",
       "    </tr>\n",
       "    <tr>\n",
       "      <th>5</th>\n",
       "      <td>-3</td>\n",
       "      <td>-2</td>\n",
       "    </tr>\n",
       "    <tr>\n",
       "      <th>6</th>\n",
       "      <td>-1</td>\n",
       "      <td>-2</td>\n",
       "    </tr>\n",
       "    <tr>\n",
       "      <th>7</th>\n",
       "      <td>4</td>\n",
       "      <td>-1</td>\n",
       "    </tr>\n",
       "    <tr>\n",
       "      <th>8</th>\n",
       "      <td>-4</td>\n",
       "      <td>1</td>\n",
       "    </tr>\n",
       "    <tr>\n",
       "      <th>9</th>\n",
       "      <td>2</td>\n",
       "      <td>-5</td>\n",
       "    </tr>\n",
       "  </tbody>\n",
       "</table>\n",
       "</div>"
      ],
      "text/plain": [
       "   Col 1  Col 2\n",
       "0      1     -4\n",
       "1      0      1\n",
       "2      2      2\n",
       "3     -4      4\n",
       "4      3      2\n",
       "5     -3     -2\n",
       "6     -1     -2\n",
       "7      4     -1\n",
       "8     -4      1\n",
       "9      2     -5"
      ]
     },
     "execution_count": 134,
     "metadata": {},
     "output_type": "execute_result"
    }
   ],
   "source": [
    "s1_noindex = s1.reset_index(drop=True)\n",
    "s2_noindex = s2.reset_index(drop=True)\n",
    "df = pd.concat([s1_noindex, s2_noindex], axis=1)\n",
    "df.columns = ['Col 1', 'Col 2']\n",
    "df"
   ]
  },
  {
   "cell_type": "markdown",
   "id": "a7a155b8-6c0a-41af-9bc3-1b09a410d1e5",
   "metadata": {},
   "source": [
    "`.append()` method is deprecated, so use `.concat()` insted"
   ]
  }
 ],
 "metadata": {
  "kernelspec": {
   "display_name": "Python 3 (ipykernel)",
   "language": "python",
   "name": "python3"
  },
  "language_info": {
   "codemirror_mode": {
    "name": "ipython",
    "version": 3
   },
   "file_extension": ".py",
   "mimetype": "text/x-python",
   "name": "python",
   "nbconvert_exporter": "python",
   "pygments_lexer": "ipython3",
   "version": "3.10.4"
  }
 },
 "nbformat": 4,
 "nbformat_minor": 5
}
